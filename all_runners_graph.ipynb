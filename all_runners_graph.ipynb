{
 "cells": [
  {
   "cell_type": "code",
   "execution_count": 11,
   "metadata": {},
   "outputs": [
    {
     "data": {
      "text/html": [
       "<div>\n",
       "<style scoped>\n",
       "    .dataframe tbody tr th:only-of-type {\n",
       "        vertical-align: middle;\n",
       "    }\n",
       "\n",
       "    .dataframe tbody tr th {\n",
       "        vertical-align: top;\n",
       "    }\n",
       "\n",
       "    .dataframe thead th {\n",
       "        text-align: right;\n",
       "    }\n",
       "</style>\n",
       "<table border=\"1\" class=\"dataframe\">\n",
       "  <thead>\n",
       "    <tr style=\"text-align: right;\">\n",
       "      <th></th>\n",
       "      <th>Year</th>\n",
       "      <th>Bib Number</th>\n",
       "      <th>Female Elite</th>\n",
       "      <th>Name</th>\n",
       "      <th>Age</th>\n",
       "      <th>M/F</th>\n",
       "      <th>City</th>\n",
       "      <th>State</th>\n",
       "      <th>Country</th>\n",
       "      <th>5K (S)</th>\n",
       "      <th>...</th>\n",
       "      <th>Half (S)</th>\n",
       "      <th>25K (S)</th>\n",
       "      <th>30K (S)</th>\n",
       "      <th>35K (S)</th>\n",
       "      <th>40K (S)</th>\n",
       "      <th>Pace (S)</th>\n",
       "      <th>Official Time (S)</th>\n",
       "      <th>Overall</th>\n",
       "      <th>Gender</th>\n",
       "      <th>Division</th>\n",
       "    </tr>\n",
       "  </thead>\n",
       "  <tbody>\n",
       "    <tr>\n",
       "      <th>0</th>\n",
       "      <td>2015</td>\n",
       "      <td>3</td>\n",
       "      <td>False</td>\n",
       "      <td>Desisa, Lelisa</td>\n",
       "      <td>25</td>\n",
       "      <td>M</td>\n",
       "      <td>Ambo</td>\n",
       "      <td>NaN</td>\n",
       "      <td>ETH</td>\n",
       "      <td>883.0</td>\n",
       "      <td>...</td>\n",
       "      <td>3842.0</td>\n",
       "      <td>4567.0</td>\n",
       "      <td>5520.0</td>\n",
       "      <td>6479.0</td>\n",
       "      <td>7359.0</td>\n",
       "      <td>296</td>\n",
       "      <td>7757</td>\n",
       "      <td>1</td>\n",
       "      <td>1</td>\n",
       "      <td>1</td>\n",
       "    </tr>\n",
       "    <tr>\n",
       "      <th>1</th>\n",
       "      <td>2015</td>\n",
       "      <td>4</td>\n",
       "      <td>False</td>\n",
       "      <td>Tsegay, Yemane Adhane</td>\n",
       "      <td>30</td>\n",
       "      <td>M</td>\n",
       "      <td>Addis Ababa</td>\n",
       "      <td>NaN</td>\n",
       "      <td>ETH</td>\n",
       "      <td>883.0</td>\n",
       "      <td>...</td>\n",
       "      <td>3841.0</td>\n",
       "      <td>4567.0</td>\n",
       "      <td>5519.0</td>\n",
       "      <td>6479.0</td>\n",
       "      <td>7362.0</td>\n",
       "      <td>298</td>\n",
       "      <td>7788</td>\n",
       "      <td>2</td>\n",
       "      <td>2</td>\n",
       "      <td>2</td>\n",
       "    </tr>\n",
       "    <tr>\n",
       "      <th>2</th>\n",
       "      <td>2015</td>\n",
       "      <td>8</td>\n",
       "      <td>False</td>\n",
       "      <td>Chebet, Wilson</td>\n",
       "      <td>29</td>\n",
       "      <td>M</td>\n",
       "      <td>Marakwet</td>\n",
       "      <td>NaN</td>\n",
       "      <td>KEN</td>\n",
       "      <td>883.0</td>\n",
       "      <td>...</td>\n",
       "      <td>3842.0</td>\n",
       "      <td>4567.0</td>\n",
       "      <td>5520.0</td>\n",
       "      <td>6479.0</td>\n",
       "      <td>7381.0</td>\n",
       "      <td>299</td>\n",
       "      <td>7822</td>\n",
       "      <td>3</td>\n",
       "      <td>3</td>\n",
       "      <td>3</td>\n",
       "    </tr>\n",
       "    <tr>\n",
       "      <th>3</th>\n",
       "      <td>2015</td>\n",
       "      <td>11</td>\n",
       "      <td>False</td>\n",
       "      <td>Kipyego, Bernard</td>\n",
       "      <td>28</td>\n",
       "      <td>M</td>\n",
       "      <td>Eldoret</td>\n",
       "      <td>NaN</td>\n",
       "      <td>KEN</td>\n",
       "      <td>883.0</td>\n",
       "      <td>...</td>\n",
       "      <td>3842.0</td>\n",
       "      <td>4567.0</td>\n",
       "      <td>5520.0</td>\n",
       "      <td>6483.0</td>\n",
       "      <td>7427.0</td>\n",
       "      <td>300</td>\n",
       "      <td>7847</td>\n",
       "      <td>4</td>\n",
       "      <td>4</td>\n",
       "      <td>4</td>\n",
       "    </tr>\n",
       "    <tr>\n",
       "      <th>4</th>\n",
       "      <td>2015</td>\n",
       "      <td>10</td>\n",
       "      <td>False</td>\n",
       "      <td>Korir, Wesley</td>\n",
       "      <td>32</td>\n",
       "      <td>M</td>\n",
       "      <td>Kitale</td>\n",
       "      <td>NaN</td>\n",
       "      <td>KEN</td>\n",
       "      <td>883.0</td>\n",
       "      <td>...</td>\n",
       "      <td>3841.0</td>\n",
       "      <td>4567.0</td>\n",
       "      <td>5520.0</td>\n",
       "      <td>6479.0</td>\n",
       "      <td>7407.0</td>\n",
       "      <td>300</td>\n",
       "      <td>7849</td>\n",
       "      <td>5</td>\n",
       "      <td>5</td>\n",
       "      <td>5</td>\n",
       "    </tr>\n",
       "  </tbody>\n",
       "</table>\n",
       "<p>5 rows × 23 columns</p>\n",
       "</div>"
      ],
      "text/plain": [
       "   Year  Bib Number  Female Elite                   Name  Age M/F  \\\n",
       "0  2015           3         False         Desisa, Lelisa   25   M   \n",
       "1  2015           4         False  Tsegay, Yemane Adhane   30   M   \n",
       "2  2015           8         False         Chebet, Wilson   29   M   \n",
       "3  2015          11         False       Kipyego, Bernard   28   M   \n",
       "4  2015          10         False          Korir, Wesley   32   M   \n",
       "\n",
       "          City State Country  5K (S)    ...     Half (S)  25K (S)  30K (S)  \\\n",
       "0         Ambo   NaN     ETH   883.0    ...       3842.0   4567.0   5520.0   \n",
       "1  Addis Ababa   NaN     ETH   883.0    ...       3841.0   4567.0   5519.0   \n",
       "2     Marakwet   NaN     KEN   883.0    ...       3842.0   4567.0   5520.0   \n",
       "3      Eldoret   NaN     KEN   883.0    ...       3842.0   4567.0   5520.0   \n",
       "4       Kitale   NaN     KEN   883.0    ...       3841.0   4567.0   5520.0   \n",
       "\n",
       "   35K (S)  40K (S)  Pace (S)  Official Time (S)  Overall  Gender  Division  \n",
       "0   6479.0   7359.0       296               7757        1       1         1  \n",
       "1   6479.0   7362.0       298               7788        2       2         2  \n",
       "2   6479.0   7381.0       299               7822        3       3         3  \n",
       "3   6483.0   7427.0       300               7847        4       4         4  \n",
       "4   6479.0   7407.0       300               7849        5       5         5  \n",
       "\n",
       "[5 rows x 23 columns]"
      ]
     },
     "execution_count": 11,
     "metadata": {},
     "output_type": "execute_result"
    }
   ],
   "source": [
    "%matplotlib inline\n",
    "import matplotlib.pyplot as plt\n",
    "import pandas as pd\n",
    "import numpy as np\n",
    "import datetime\n",
    "\n",
    "marathon_all = pd.read_csv(\"Resources/cheat_marathon_master.csv\")\n",
    "\n",
    "marathon_all.head()"
   ]
  },
  {
   "cell_type": "code",
   "execution_count": 12,
   "metadata": {},
   "outputs": [],
   "source": [
    "#marathon_2015['Official Time'] = pd.to_timedelta(marathon_2015['Official Time'])\n",
    "\n",
    "#datetime.datetime.strptime(marathon_2015['Official Time'], '%H:%M:%S').time()\n",
    "\n",
    "#type(marathon_2015['Official Time'][0])\n",
    "\n",
    "marathon_2015['Official Time'] = pd.to_datetime(marathon_2015['Official Time (S)'])\n",
    "\n",
    "#raw_data['Mycol'] =  pd.to_datetime(raw_data['Mycol'], format='%d%b%Y:%H:%M:%S.%f')\n"
   ]
  },
  {
   "cell_type": "code",
   "execution_count": 13,
   "metadata": {},
   "outputs": [
    {
     "data": {
      "text/plain": [
       "(array([5.2340e+03, 3.7305e+04, 2.6162e+04, 8.4580e+03, 2.4230e+03,\n",
       "        4.1000e+01, 1.0000e+01, 4.0000e+00, 0.0000e+00, 1.0000e+00]),\n",
       " array([ 7757. , 10763.6, 13770.2, 16776.8, 19783.4, 22790. , 25796.6,\n",
       "        28803.2, 31809.8, 34816.4, 37823. ]),\n",
       " <a list of 10 Patch objects>)"
      ]
     },
     "execution_count": 13,
     "metadata": {},
     "output_type": "execute_result"
    },
    {
     "data": {
      "image/png": "[encoded data removed]",
      "text/plain": [
       "<Figure size 432x288 with 1 Axes>"
      ]
     },
     "metadata": {},
     "output_type": "display_data"
    }
   ],
   "source": [
    "plt.hist(marathon_all['Official Time (S)'])"
   ]
  },
  {
   "cell_type": "code",
   "execution_count": 32,
   "metadata": {},
   "outputs": [
    {
     "data": {
      "text/plain": [
       "<matplotlib.collections.PathCollection at 0x122c320f0>"
      ]
     },
     "execution_count": 32,
     "metadata": {},
     "output_type": "execute_result"
    },
    {
     "data": {
      "image/png": "[encoded data removed]",
      "text/plain": [
       "<Figure size 432x288 with 1 Axes>"
      ]
     },
     "metadata": {},
     "output_type": "display_data"
    }
   ],
   "source": [
    "plt.scatter(marathon_all['Official Time (S)'], marathon_all['Age'])"
   ]
  },
  {
   "cell_type": "code",
   "execution_count": null,
   "metadata": {},
   "outputs": [],
   "source": []
  },
  {
   "cell_type": "code",
   "execution_count": null,
   "metadata": {},
   "outputs": [],
   "source": []
  },
  {
   "cell_type": "code",
   "execution_count": null,
   "metadata": {},
   "outputs": [],
   "source": []
  },
  {
   "cell_type": "code",
   "execution_count": null,
   "metadata": {},
   "outputs": [],
   "source": []
  }
 ],
 "metadata": {
  "kernelspec": {
   "display_name": "Python [conda env:PythonData]",
   "language": "python",
   "name": "conda-env-PythonData-py"
  },
  "language_info": {
   "codemirror_mode": {
    "name": "ipython",
    "version": 3
   },
   "file_extension": ".py",
   "mimetype": "text/x-python",
   "name": "python",
   "nbconvert_exporter": "python",
   "pygments_lexer": "ipython3",
   "version": "3.6.5"
  }
 },
 "nbformat": 4,
 "nbformat_minor": 2
}
