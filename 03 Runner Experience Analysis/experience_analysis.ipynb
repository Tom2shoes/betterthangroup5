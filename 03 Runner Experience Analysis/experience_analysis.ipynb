{
 "cells": [
  {
   "cell_type": "code",
   "execution_count": 12,
   "metadata": {},
   "outputs": [],
   "source": [
    "# Dependencies and Setup\n",
    "import pandas as pd\n",
    "import numpy as np\n",
    "import matplotlib.pyplot as plt"
   ]
  },
  {
   "cell_type": "code",
   "execution_count": 13,
   "metadata": {},
   "outputs": [],
   "source": [
    "# File to Load\n",
    "path_2015 = \"../Resources/2015_df.csv\"\n",
    "path_2016 = \"../Resources/2016_df.csv\"\n",
    "path_2017 = \"../Resources/2017_df.csv\"\n",
    "\n",
    "# Read csv Data File and store into Pandas Data Frames\n",
    "runner_2015_df = pd.read_csv(path_2015)\n",
    "runner_2016_df = pd.read_csv(path_2016)\n",
    "runner_2017_df = pd.read_csv(path_2017)"
   ]
  },
  {
   "cell_type": "code",
   "execution_count": 14,
   "metadata": {},
   "outputs": [
    {
     "data": {
      "text/html": [
       "<div>\n",
       "<style scoped>\n",
       "    .dataframe tbody tr th:only-of-type {\n",
       "        vertical-align: middle;\n",
       "    }\n",
       "\n",
       "    .dataframe tbody tr th {\n",
       "        vertical-align: top;\n",
       "    }\n",
       "\n",
       "    .dataframe thead th {\n",
       "        text-align: right;\n",
       "    }\n",
       "</style>\n",
       "<table border=\"1\" class=\"dataframe\">\n",
       "  <thead>\n",
       "    <tr style=\"text-align: right;\">\n",
       "      <th></th>\n",
       "      <th>Name</th>\n",
       "      <th>Official Time</th>\n",
       "    </tr>\n",
       "  </thead>\n",
       "  <tbody>\n",
       "    <tr>\n",
       "      <th>0</th>\n",
       "      <td>Desisa, Lelisa</td>\n",
       "      <td>2:09:17</td>\n",
       "    </tr>\n",
       "    <tr>\n",
       "      <th>1</th>\n",
       "      <td>Tsegay, Yemane Adhane</td>\n",
       "      <td>2:09:48</td>\n",
       "    </tr>\n",
       "    <tr>\n",
       "      <th>2</th>\n",
       "      <td>Chebet, Wilson</td>\n",
       "      <td>2:10:22</td>\n",
       "    </tr>\n",
       "    <tr>\n",
       "      <th>3</th>\n",
       "      <td>Kipyego, Bernard</td>\n",
       "      <td>2:10:47</td>\n",
       "    </tr>\n",
       "    <tr>\n",
       "      <th>4</th>\n",
       "      <td>Korir, Wesley</td>\n",
       "      <td>2:10:49</td>\n",
       "    </tr>\n",
       "  </tbody>\n",
       "</table>\n",
       "</div>"
      ],
      "text/plain": [
       "                    Name Official Time\n",
       "0         Desisa, Lelisa       2:09:17\n",
       "1  Tsegay, Yemane Adhane       2:09:48\n",
       "2         Chebet, Wilson       2:10:22\n",
       "3       Kipyego, Bernard       2:10:47\n",
       "4          Korir, Wesley       2:10:49"
      ]
     },
     "execution_count": 14,
     "metadata": {},
     "output_type": "execute_result"
    }
   ],
   "source": [
    "runnertime_2015_df=runner_2015_df.loc[:,[\"Name\",\"Official Time\"]]\n",
    "runnertime_2015_df.head()"
   ]
  },
  {
   "cell_type": "code",
   "execution_count": 15,
   "metadata": {},
   "outputs": [
    {
     "data": {
      "text/html": [
       "<div>\n",
       "<style scoped>\n",
       "    .dataframe tbody tr th:only-of-type {\n",
       "        vertical-align: middle;\n",
       "    }\n",
       "\n",
       "    .dataframe tbody tr th {\n",
       "        vertical-align: top;\n",
       "    }\n",
       "\n",
       "    .dataframe thead th {\n",
       "        text-align: right;\n",
       "    }\n",
       "</style>\n",
       "<table border=\"1\" class=\"dataframe\">\n",
       "  <thead>\n",
       "    <tr style=\"text-align: right;\">\n",
       "      <th></th>\n",
       "      <th>Name</th>\n",
       "      <th>Official Time</th>\n",
       "    </tr>\n",
       "  </thead>\n",
       "  <tbody>\n",
       "    <tr>\n",
       "      <th>0</th>\n",
       "      <td>Hayle, Lemi Berhanu</td>\n",
       "      <td>2:12:45</td>\n",
       "    </tr>\n",
       "    <tr>\n",
       "      <th>1</th>\n",
       "      <td>Desisa, Lelisa</td>\n",
       "      <td>2:13:32</td>\n",
       "    </tr>\n",
       "    <tr>\n",
       "      <th>2</th>\n",
       "      <td>Tsegay, Yemane Adhane</td>\n",
       "      <td>2:14:02</td>\n",
       "    </tr>\n",
       "    <tr>\n",
       "      <th>3</th>\n",
       "      <td>Korir, Wesley</td>\n",
       "      <td>2:14:05</td>\n",
       "    </tr>\n",
       "    <tr>\n",
       "      <th>4</th>\n",
       "      <td>Lonyangata, Paul</td>\n",
       "      <td>2:15:45</td>\n",
       "    </tr>\n",
       "  </tbody>\n",
       "</table>\n",
       "</div>"
      ],
      "text/plain": [
       "                    Name Official Time\n",
       "0    Hayle, Lemi Berhanu       2:12:45\n",
       "1         Desisa, Lelisa       2:13:32\n",
       "2  Tsegay, Yemane Adhane       2:14:02\n",
       "3          Korir, Wesley       2:14:05\n",
       "4       Lonyangata, Paul       2:15:45"
      ]
     },
     "execution_count": 15,
     "metadata": {},
     "output_type": "execute_result"
    }
   ],
   "source": [
    "runnertime_2016_df=runner_2016_df.loc[:,[\"Name\",\"Official Time\"]]\n",
    "runnertime_2016_df.head()"
   ]
  },
  {
   "cell_type": "code",
   "execution_count": 16,
   "metadata": {},
   "outputs": [
    {
     "data": {
      "text/html": [
       "<div>\n",
       "<style scoped>\n",
       "    .dataframe tbody tr th:only-of-type {\n",
       "        vertical-align: middle;\n",
       "    }\n",
       "\n",
       "    .dataframe tbody tr th {\n",
       "        vertical-align: top;\n",
       "    }\n",
       "\n",
       "    .dataframe thead th {\n",
       "        text-align: right;\n",
       "    }\n",
       "</style>\n",
       "<table border=\"1\" class=\"dataframe\">\n",
       "  <thead>\n",
       "    <tr style=\"text-align: right;\">\n",
       "      <th></th>\n",
       "      <th>Name</th>\n",
       "      <th>Official Time</th>\n",
       "    </tr>\n",
       "  </thead>\n",
       "  <tbody>\n",
       "    <tr>\n",
       "      <th>0</th>\n",
       "      <td>Kirui, Geoffrey</td>\n",
       "      <td>2:09:37</td>\n",
       "    </tr>\n",
       "    <tr>\n",
       "      <th>1</th>\n",
       "      <td>Rupp, Galen</td>\n",
       "      <td>2:09:58</td>\n",
       "    </tr>\n",
       "    <tr>\n",
       "      <th>2</th>\n",
       "      <td>Osako, Suguru</td>\n",
       "      <td>2:10:28</td>\n",
       "    </tr>\n",
       "    <tr>\n",
       "      <th>3</th>\n",
       "      <td>Biwott, Shadrack</td>\n",
       "      <td>2:12:08</td>\n",
       "    </tr>\n",
       "    <tr>\n",
       "      <th>4</th>\n",
       "      <td>Chebet, Wilson</td>\n",
       "      <td>2:12:35</td>\n",
       "    </tr>\n",
       "  </tbody>\n",
       "</table>\n",
       "</div>"
      ],
      "text/plain": [
       "               Name Official Time\n",
       "0   Kirui, Geoffrey       2:09:37\n",
       "1       Rupp, Galen       2:09:58\n",
       "2     Osako, Suguru       2:10:28\n",
       "3  Biwott, Shadrack       2:12:08\n",
       "4    Chebet, Wilson       2:12:35"
      ]
     },
     "execution_count": 16,
     "metadata": {},
     "output_type": "execute_result"
    }
   ],
   "source": [
    "runnertime_2017_df=runner_2017_df.loc[:,[\"Name\",\"Official Time\"]]\n",
    "runnertime_2017_df.head()"
   ]
  },
  {
   "cell_type": "code",
   "execution_count": 17,
   "metadata": {},
   "outputs": [],
   "source": [
    "def time_convert(x):\n",
    "   times = x.split(':')\n",
    "   return (3600*int(times[0])+60*int(times[1]))+int(times[2])"
   ]
  },
  {
   "cell_type": "code",
   "execution_count": 30,
   "metadata": {},
   "outputs": [
    {
     "ename": "AttributeError",
     "evalue": "'int' object has no attribute 'split'",
     "output_type": "error",
     "traceback": [
      "\u001b[1;31m---------------------------------------------------------------------------\u001b[0m",
      "\u001b[1;31mAttributeError\u001b[0m                            Traceback (most recent call last)",
      "\u001b[1;32m<ipython-input-30-e83d2b596d8d>\u001b[0m in \u001b[0;36m<module>\u001b[1;34m()\u001b[0m\n\u001b[1;32m----> 1\u001b[1;33m \u001b[0mrunnertime_2015_df\u001b[0m\u001b[1;33m[\u001b[0m\u001b[1;34m\"Official Time\"\u001b[0m\u001b[1;33m]\u001b[0m\u001b[1;33m=\u001b[0m\u001b[0mrunnertime_2015_df\u001b[0m\u001b[1;33m[\u001b[0m\u001b[1;34m\"Official Time\"\u001b[0m\u001b[1;33m]\u001b[0m\u001b[1;33m.\u001b[0m\u001b[0mapply\u001b[0m\u001b[1;33m(\u001b[0m\u001b[0mtime_convert\u001b[0m\u001b[1;33m)\u001b[0m\u001b[1;33m\u001b[0m\u001b[0m\n\u001b[0m\u001b[0;32m      2\u001b[0m \u001b[0mrunnertime_2016_df\u001b[0m\u001b[1;33m[\u001b[0m\u001b[1;34m\"Official Time\"\u001b[0m\u001b[1;33m]\u001b[0m\u001b[1;33m=\u001b[0m\u001b[0mrunnertime_2016_df\u001b[0m\u001b[1;33m[\u001b[0m\u001b[1;34m\"Official Time\"\u001b[0m\u001b[1;33m]\u001b[0m\u001b[1;33m.\u001b[0m\u001b[0mapply\u001b[0m\u001b[1;33m(\u001b[0m\u001b[0mtime_convert\u001b[0m\u001b[1;33m)\u001b[0m\u001b[1;33m\u001b[0m\u001b[0m\n\u001b[0;32m      3\u001b[0m \u001b[0mrunnertime_2017_df\u001b[0m\u001b[1;33m[\u001b[0m\u001b[1;34m\"Official Time\"\u001b[0m\u001b[1;33m]\u001b[0m\u001b[1;33m=\u001b[0m\u001b[0mrunnertime_2017_df\u001b[0m\u001b[1;33m[\u001b[0m\u001b[1;34m\"Official Time\"\u001b[0m\u001b[1;33m]\u001b[0m\u001b[1;33m.\u001b[0m\u001b[0mapply\u001b[0m\u001b[1;33m(\u001b[0m\u001b[0mtime_convert\u001b[0m\u001b[1;33m)\u001b[0m\u001b[1;33m\u001b[0m\u001b[0m\n",
      "\u001b[1;32m~\\Anaconda3\\lib\\site-packages\\pandas\\core\\series.py\u001b[0m in \u001b[0;36mapply\u001b[1;34m(self, func, convert_dtype, args, **kwds)\u001b[0m\n\u001b[0;32m   3190\u001b[0m             \u001b[1;32melse\u001b[0m\u001b[1;33m:\u001b[0m\u001b[1;33m\u001b[0m\u001b[0m\n\u001b[0;32m   3191\u001b[0m                 \u001b[0mvalues\u001b[0m \u001b[1;33m=\u001b[0m \u001b[0mself\u001b[0m\u001b[1;33m.\u001b[0m\u001b[0mastype\u001b[0m\u001b[1;33m(\u001b[0m\u001b[0mobject\u001b[0m\u001b[1;33m)\u001b[0m\u001b[1;33m.\u001b[0m\u001b[0mvalues\u001b[0m\u001b[1;33m\u001b[0m\u001b[0m\n\u001b[1;32m-> 3192\u001b[1;33m                 \u001b[0mmapped\u001b[0m \u001b[1;33m=\u001b[0m \u001b[0mlib\u001b[0m\u001b[1;33m.\u001b[0m\u001b[0mmap_infer\u001b[0m\u001b[1;33m(\u001b[0m\u001b[0mvalues\u001b[0m\u001b[1;33m,\u001b[0m \u001b[0mf\u001b[0m\u001b[1;33m,\u001b[0m \u001b[0mconvert\u001b[0m\u001b[1;33m=\u001b[0m\u001b[0mconvert_dtype\u001b[0m\u001b[1;33m)\u001b[0m\u001b[1;33m\u001b[0m\u001b[0m\n\u001b[0m\u001b[0;32m   3193\u001b[0m \u001b[1;33m\u001b[0m\u001b[0m\n\u001b[0;32m   3194\u001b[0m         \u001b[1;32mif\u001b[0m \u001b[0mlen\u001b[0m\u001b[1;33m(\u001b[0m\u001b[0mmapped\u001b[0m\u001b[1;33m)\u001b[0m \u001b[1;32mand\u001b[0m \u001b[0misinstance\u001b[0m\u001b[1;33m(\u001b[0m\u001b[0mmapped\u001b[0m\u001b[1;33m[\u001b[0m\u001b[1;36m0\u001b[0m\u001b[1;33m]\u001b[0m\u001b[1;33m,\u001b[0m \u001b[0mSeries\u001b[0m\u001b[1;33m)\u001b[0m\u001b[1;33m:\u001b[0m\u001b[1;33m\u001b[0m\u001b[0m\n",
      "\u001b[1;32mpandas/_libs/src\\inference.pyx\u001b[0m in \u001b[0;36mpandas._libs.lib.map_infer\u001b[1;34m()\u001b[0m\n",
      "\u001b[1;32m<ipython-input-17-c5fbf3fe83c3>\u001b[0m in \u001b[0;36mtime_convert\u001b[1;34m(x)\u001b[0m\n\u001b[0;32m      1\u001b[0m \u001b[1;32mdef\u001b[0m \u001b[0mtime_convert\u001b[0m\u001b[1;33m(\u001b[0m\u001b[0mx\u001b[0m\u001b[1;33m)\u001b[0m\u001b[1;33m:\u001b[0m\u001b[1;33m\u001b[0m\u001b[0m\n\u001b[1;32m----> 2\u001b[1;33m    \u001b[0mtimes\u001b[0m \u001b[1;33m=\u001b[0m \u001b[0mx\u001b[0m\u001b[1;33m.\u001b[0m\u001b[0msplit\u001b[0m\u001b[1;33m(\u001b[0m\u001b[1;34m':'\u001b[0m\u001b[1;33m)\u001b[0m\u001b[1;33m\u001b[0m\u001b[0m\n\u001b[0m\u001b[0;32m      3\u001b[0m    \u001b[1;32mreturn\u001b[0m \u001b[1;33m(\u001b[0m\u001b[1;36m3600\u001b[0m\u001b[1;33m*\u001b[0m\u001b[0mint\u001b[0m\u001b[1;33m(\u001b[0m\u001b[0mtimes\u001b[0m\u001b[1;33m[\u001b[0m\u001b[1;36m0\u001b[0m\u001b[1;33m]\u001b[0m\u001b[1;33m)\u001b[0m\u001b[1;33m+\u001b[0m\u001b[1;36m60\u001b[0m\u001b[1;33m*\u001b[0m\u001b[0mint\u001b[0m\u001b[1;33m(\u001b[0m\u001b[0mtimes\u001b[0m\u001b[1;33m[\u001b[0m\u001b[1;36m1\u001b[0m\u001b[1;33m]\u001b[0m\u001b[1;33m)\u001b[0m\u001b[1;33m)\u001b[0m\u001b[1;33m+\u001b[0m\u001b[0mint\u001b[0m\u001b[1;33m(\u001b[0m\u001b[0mtimes\u001b[0m\u001b[1;33m[\u001b[0m\u001b[1;36m2\u001b[0m\u001b[1;33m]\u001b[0m\u001b[1;33m)\u001b[0m\u001b[1;33m\u001b[0m\u001b[0m\n",
      "\u001b[1;31mAttributeError\u001b[0m: 'int' object has no attribute 'split'"
     ]
    }
   ],
   "source": [
    "runnertime_2015_df[\"Official Time\"]=runnertime_2015_df[\"Official Time\"].apply(time_convert)\n",
    "runnertime_2016_df[\"Official Time\"]=runnertime_2016_df[\"Official Time\"].apply(time_convert)\n",
    "runnertime_2017_df[\"Official Time\"]=runnertime_2017_df[\"Official Time\"].apply(time_convert)"
   ]
  },
  {
   "cell_type": "code",
   "execution_count": 31,
   "metadata": {},
   "outputs": [],
   "source": [
    "runner2015_df = runnertime_2015_df.sort_values(\"Official Time\", ascending = True)\n",
    "runner2016_df = runnertime_2016_df.sort_values(\"Official Time\", ascending = True)\n",
    "runner2017_df = runnertime_2017_df.sort_values(\"Official Time\", ascending = True)"
   ]
  },
  {
   "cell_type": "code",
   "execution_count": 32,
   "metadata": {},
   "outputs": [
    {
     "data": {
      "text/plain": [
       "26305"
      ]
     },
     "execution_count": 32,
     "metadata": {},
     "output_type": "execute_result"
    }
   ],
   "source": [
    "len(runnertime_2015_df)"
   ]
  },
  {
   "cell_type": "code",
   "execution_count": 33,
   "metadata": {},
   "outputs": [
    {
     "data": {
      "text/html": [
       "<div>\n",
       "<style scoped>\n",
       "    .dataframe tbody tr th:only-of-type {\n",
       "        vertical-align: middle;\n",
       "    }\n",
       "\n",
       "    .dataframe tbody tr th {\n",
       "        vertical-align: top;\n",
       "    }\n",
       "\n",
       "    .dataframe thead th {\n",
       "        text-align: right;\n",
       "    }\n",
       "</style>\n",
       "<table border=\"1\" class=\"dataframe\">\n",
       "  <thead>\n",
       "    <tr style=\"text-align: right;\">\n",
       "      <th></th>\n",
       "      <th>Name</th>\n",
       "      <th>Official Time</th>\n",
       "    </tr>\n",
       "  </thead>\n",
       "  <tbody>\n",
       "    <tr>\n",
       "      <th>0</th>\n",
       "      <td>Desisa, Lelisa</td>\n",
       "      <td>7757</td>\n",
       "    </tr>\n",
       "    <tr>\n",
       "      <th>1</th>\n",
       "      <td>Tsegay, Yemane Adhane</td>\n",
       "      <td>7788</td>\n",
       "    </tr>\n",
       "    <tr>\n",
       "      <th>2</th>\n",
       "      <td>Chebet, Wilson</td>\n",
       "      <td>7822</td>\n",
       "    </tr>\n",
       "    <tr>\n",
       "      <th>3</th>\n",
       "      <td>Kipyego, Bernard</td>\n",
       "      <td>7847</td>\n",
       "    </tr>\n",
       "    <tr>\n",
       "      <th>4</th>\n",
       "      <td>Korir, Wesley</td>\n",
       "      <td>7849</td>\n",
       "    </tr>\n",
       "  </tbody>\n",
       "</table>\n",
       "</div>"
      ],
      "text/plain": [
       "                    Name  Official Time\n",
       "0         Desisa, Lelisa           7757\n",
       "1  Tsegay, Yemane Adhane           7788\n",
       "2         Chebet, Wilson           7822\n",
       "3       Kipyego, Bernard           7847\n",
       "4          Korir, Wesley           7849"
      ]
     },
     "execution_count": 33,
     "metadata": {},
     "output_type": "execute_result"
    }
   ],
   "source": [
    "top10_2015_df=runnertime_2015_df.head(2631)\n",
    "top10_2015_df.head()\n"
   ]
  },
  {
   "cell_type": "code",
   "execution_count": 34,
   "metadata": {},
   "outputs": [
    {
     "data": {
      "text/plain": [
       "26490"
      ]
     },
     "execution_count": 34,
     "metadata": {},
     "output_type": "execute_result"
    }
   ],
   "source": [
    "len(runnertime_2016_df)"
   ]
  },
  {
   "cell_type": "code",
   "execution_count": 35,
   "metadata": {},
   "outputs": [
    {
     "data": {
      "text/html": [
       "<div>\n",
       "<style scoped>\n",
       "    .dataframe tbody tr th:only-of-type {\n",
       "        vertical-align: middle;\n",
       "    }\n",
       "\n",
       "    .dataframe tbody tr th {\n",
       "        vertical-align: top;\n",
       "    }\n",
       "\n",
       "    .dataframe thead th {\n",
       "        text-align: right;\n",
       "    }\n",
       "</style>\n",
       "<table border=\"1\" class=\"dataframe\">\n",
       "  <thead>\n",
       "    <tr style=\"text-align: right;\">\n",
       "      <th></th>\n",
       "      <th>Name</th>\n",
       "      <th>Official Time</th>\n",
       "    </tr>\n",
       "  </thead>\n",
       "  <tbody>\n",
       "    <tr>\n",
       "      <th>0</th>\n",
       "      <td>Hayle, Lemi Berhanu</td>\n",
       "      <td>7965</td>\n",
       "    </tr>\n",
       "    <tr>\n",
       "      <th>1</th>\n",
       "      <td>Desisa, Lelisa</td>\n",
       "      <td>8012</td>\n",
       "    </tr>\n",
       "    <tr>\n",
       "      <th>2</th>\n",
       "      <td>Tsegay, Yemane Adhane</td>\n",
       "      <td>8042</td>\n",
       "    </tr>\n",
       "    <tr>\n",
       "      <th>3</th>\n",
       "      <td>Korir, Wesley</td>\n",
       "      <td>8045</td>\n",
       "    </tr>\n",
       "    <tr>\n",
       "      <th>4</th>\n",
       "      <td>Lonyangata, Paul</td>\n",
       "      <td>8145</td>\n",
       "    </tr>\n",
       "  </tbody>\n",
       "</table>\n",
       "</div>"
      ],
      "text/plain": [
       "                    Name  Official Time\n",
       "0    Hayle, Lemi Berhanu           7965\n",
       "1         Desisa, Lelisa           8012\n",
       "2  Tsegay, Yemane Adhane           8042\n",
       "3          Korir, Wesley           8045\n",
       "4       Lonyangata, Paul           8145"
      ]
     },
     "execution_count": 35,
     "metadata": {},
     "output_type": "execute_result"
    }
   ],
   "source": [
    "top10_2016_df=runnertime_2016_df.head(2649)\n",
    "top10_2016_df.head()"
   ]
  },
  {
   "cell_type": "code",
   "execution_count": 36,
   "metadata": {},
   "outputs": [
    {
     "data": {
      "text/plain": [
       "26262"
      ]
     },
     "execution_count": 36,
     "metadata": {},
     "output_type": "execute_result"
    }
   ],
   "source": [
    "len(runnertime_2017_df)"
   ]
  },
  {
   "cell_type": "code",
   "execution_count": 37,
   "metadata": {},
   "outputs": [
    {
     "data": {
      "text/html": [
       "<div>\n",
       "<style scoped>\n",
       "    .dataframe tbody tr th:only-of-type {\n",
       "        vertical-align: middle;\n",
       "    }\n",
       "\n",
       "    .dataframe tbody tr th {\n",
       "        vertical-align: top;\n",
       "    }\n",
       "\n",
       "    .dataframe thead th {\n",
       "        text-align: right;\n",
       "    }\n",
       "</style>\n",
       "<table border=\"1\" class=\"dataframe\">\n",
       "  <thead>\n",
       "    <tr style=\"text-align: right;\">\n",
       "      <th></th>\n",
       "      <th>Name</th>\n",
       "      <th>Official Time</th>\n",
       "    </tr>\n",
       "  </thead>\n",
       "  <tbody>\n",
       "    <tr>\n",
       "      <th>0</th>\n",
       "      <td>Kirui, Geoffrey</td>\n",
       "      <td>7777</td>\n",
       "    </tr>\n",
       "    <tr>\n",
       "      <th>1</th>\n",
       "      <td>Rupp, Galen</td>\n",
       "      <td>7798</td>\n",
       "    </tr>\n",
       "    <tr>\n",
       "      <th>2</th>\n",
       "      <td>Osako, Suguru</td>\n",
       "      <td>7828</td>\n",
       "    </tr>\n",
       "    <tr>\n",
       "      <th>3</th>\n",
       "      <td>Biwott, Shadrack</td>\n",
       "      <td>7928</td>\n",
       "    </tr>\n",
       "    <tr>\n",
       "      <th>4</th>\n",
       "      <td>Chebet, Wilson</td>\n",
       "      <td>7955</td>\n",
       "    </tr>\n",
       "  </tbody>\n",
       "</table>\n",
       "</div>"
      ],
      "text/plain": [
       "               Name  Official Time\n",
       "0   Kirui, Geoffrey           7777\n",
       "1       Rupp, Galen           7798\n",
       "2     Osako, Suguru           7828\n",
       "3  Biwott, Shadrack           7928\n",
       "4    Chebet, Wilson           7955"
      ]
     },
     "execution_count": 37,
     "metadata": {},
     "output_type": "execute_result"
    }
   ],
   "source": [
    "top10_2017_df=runnertime_2017_df.head(2626)\n",
    "top10_2017_df.head()"
   ]
  },
  {
   "cell_type": "code",
   "execution_count": 38,
   "metadata": {},
   "outputs": [
    {
     "data": {
      "text/html": [
       "<div>\n",
       "<style scoped>\n",
       "    .dataframe tbody tr th:only-of-type {\n",
       "        vertical-align: middle;\n",
       "    }\n",
       "\n",
       "    .dataframe tbody tr th {\n",
       "        vertical-align: top;\n",
       "    }\n",
       "\n",
       "    .dataframe thead th {\n",
       "        text-align: right;\n",
       "    }\n",
       "</style>\n",
       "<table border=\"1\" class=\"dataframe\">\n",
       "  <thead>\n",
       "    <tr style=\"text-align: right;\">\n",
       "      <th></th>\n",
       "      <th>Name</th>\n",
       "      <th>Official Time_x</th>\n",
       "      <th>Official Time_y</th>\n",
       "    </tr>\n",
       "  </thead>\n",
       "  <tbody>\n",
       "    <tr>\n",
       "      <th>0</th>\n",
       "      <td>Desisa, Lelisa</td>\n",
       "      <td>7757</td>\n",
       "      <td>8012</td>\n",
       "    </tr>\n",
       "    <tr>\n",
       "      <th>1</th>\n",
       "      <td>Tsegay, Yemane Adhane</td>\n",
       "      <td>7788</td>\n",
       "      <td>8042</td>\n",
       "    </tr>\n",
       "    <tr>\n",
       "      <th>2</th>\n",
       "      <td>Korir, Wesley</td>\n",
       "      <td>7849</td>\n",
       "      <td>8045</td>\n",
       "    </tr>\n",
       "    <tr>\n",
       "      <th>3</th>\n",
       "      <td>Mercier, Christian</td>\n",
       "      <td>8677</td>\n",
       "      <td>9270</td>\n",
       "    </tr>\n",
       "    <tr>\n",
       "      <th>4</th>\n",
       "      <td>Boudalia, Said Sr.</td>\n",
       "      <td>8689</td>\n",
       "      <td>8861</td>\n",
       "    </tr>\n",
       "  </tbody>\n",
       "</table>\n",
       "</div>"
      ],
      "text/plain": [
       "                    Name  Official Time_x  Official Time_y\n",
       "0         Desisa, Lelisa             7757             8012\n",
       "1  Tsegay, Yemane Adhane             7788             8042\n",
       "2          Korir, Wesley             7849             8045\n",
       "3     Mercier, Christian             8677             9270\n",
       "4     Boudalia, Said Sr.             8689             8861"
      ]
     },
     "execution_count": 38,
     "metadata": {},
     "output_type": "execute_result"
    }
   ],
   "source": [
    "runnertime_20152016_df = pd.merge(top10_2015_df,top10_2016_df,on=\"Name\")\n",
    "runnertime_20162017_df = pd.merge(top10_2016_df,top10_2017_df,on=\"Name\")\n",
    "runnertime_20152017_df = pd.merge(top10_2015_df,top10_2017_df,on=\"Name\")\n",
    "runnertime_20152016_df.head()"
   ]
  },
  {
   "cell_type": "code",
   "execution_count": 39,
   "metadata": {},
   "outputs": [
    {
     "data": {
      "text/html": [
       "<div>\n",
       "<style scoped>\n",
       "    .dataframe tbody tr th:only-of-type {\n",
       "        vertical-align: middle;\n",
       "    }\n",
       "\n",
       "    .dataframe tbody tr th {\n",
       "        vertical-align: top;\n",
       "    }\n",
       "\n",
       "    .dataframe thead th {\n",
       "        text-align: right;\n",
       "    }\n",
       "</style>\n",
       "<table border=\"1\" class=\"dataframe\">\n",
       "  <thead>\n",
       "    <tr style=\"text-align: right;\">\n",
       "      <th></th>\n",
       "      <th>Name</th>\n",
       "      <th>Official Time_x</th>\n",
       "      <th>Official Time_y</th>\n",
       "      <th>time_difference_20152016</th>\n",
       "    </tr>\n",
       "  </thead>\n",
       "  <tbody>\n",
       "    <tr>\n",
       "      <th>0</th>\n",
       "      <td>Desisa, Lelisa</td>\n",
       "      <td>7757</td>\n",
       "      <td>8012</td>\n",
       "      <td></td>\n",
       "    </tr>\n",
       "    <tr>\n",
       "      <th>1</th>\n",
       "      <td>Tsegay, Yemane Adhane</td>\n",
       "      <td>7788</td>\n",
       "      <td>8042</td>\n",
       "      <td></td>\n",
       "    </tr>\n",
       "    <tr>\n",
       "      <th>2</th>\n",
       "      <td>Korir, Wesley</td>\n",
       "      <td>7849</td>\n",
       "      <td>8045</td>\n",
       "      <td></td>\n",
       "    </tr>\n",
       "    <tr>\n",
       "      <th>3</th>\n",
       "      <td>Mercier, Christian</td>\n",
       "      <td>8677</td>\n",
       "      <td>9270</td>\n",
       "      <td></td>\n",
       "    </tr>\n",
       "    <tr>\n",
       "      <th>4</th>\n",
       "      <td>Boudalia, Said Sr.</td>\n",
       "      <td>8689</td>\n",
       "      <td>8861</td>\n",
       "      <td></td>\n",
       "    </tr>\n",
       "  </tbody>\n",
       "</table>\n",
       "</div>"
      ],
      "text/plain": [
       "                    Name  Official Time_x  Official Time_y  \\\n",
       "0         Desisa, Lelisa             7757             8012   \n",
       "1  Tsegay, Yemane Adhane             7788             8042   \n",
       "2          Korir, Wesley             7849             8045   \n",
       "3     Mercier, Christian             8677             9270   \n",
       "4     Boudalia, Said Sr.             8689             8861   \n",
       "\n",
       "  time_difference_20152016  \n",
       "0                           \n",
       "1                           \n",
       "2                           \n",
       "3                           \n",
       "4                           "
      ]
     },
     "execution_count": 39,
     "metadata": {},
     "output_type": "execute_result"
    }
   ],
   "source": [
    "runnertime_20152016_df['time_difference_20152016'] = runnertime_20152016_df.apply(lambda _: '', axis=1)\n",
    "runnertime_20162017_df['time_difference_20152016'] = runnertime_20152016_df.apply(lambda _: '', axis=1)\n",
    "runnertime_20152017_df['time_difference_20152016'] = runnertime_20152016_df.apply(lambda _: '', axis=1)\n",
    "runnertime_20152016_df.head()"
   ]
  },
  {
   "cell_type": "code",
   "execution_count": 40,
   "metadata": {},
   "outputs": [
    {
     "data": {
      "text/html": [
       "<div>\n",
       "<style scoped>\n",
       "    .dataframe tbody tr th:only-of-type {\n",
       "        vertical-align: middle;\n",
       "    }\n",
       "\n",
       "    .dataframe tbody tr th {\n",
       "        vertical-align: top;\n",
       "    }\n",
       "\n",
       "    .dataframe thead th {\n",
       "        text-align: right;\n",
       "    }\n",
       "</style>\n",
       "<table border=\"1\" class=\"dataframe\">\n",
       "  <thead>\n",
       "    <tr style=\"text-align: right;\">\n",
       "      <th></th>\n",
       "      <th>Name</th>\n",
       "      <th>Official Time_x</th>\n",
       "      <th>Official Time_y</th>\n",
       "      <th>time_difference_20152016</th>\n",
       "      <th>Official Time_2015</th>\n",
       "      <th>Official Time_2017</th>\n",
       "      <th>time_difference_20152017</th>\n",
       "    </tr>\n",
       "  </thead>\n",
       "  <tbody>\n",
       "    <tr>\n",
       "      <th>0</th>\n",
       "      <td>Chebet, Wilson</td>\n",
       "      <td>7822</td>\n",
       "      <td>7955</td>\n",
       "      <td></td>\n",
       "      <td>7757</td>\n",
       "      <td>8012</td>\n",
       "      <td>255</td>\n",
       "    </tr>\n",
       "    <tr>\n",
       "      <th>1</th>\n",
       "      <td>Korir, Wesley</td>\n",
       "      <td>7849</td>\n",
       "      <td>8294</td>\n",
       "      <td></td>\n",
       "      <td>7788</td>\n",
       "      <td>8042</td>\n",
       "      <td>254</td>\n",
       "    </tr>\n",
       "    <tr>\n",
       "      <th>2</th>\n",
       "      <td>Keflezighi, Meb</td>\n",
       "      <td>7962</td>\n",
       "      <td>8220</td>\n",
       "      <td></td>\n",
       "      <td>7849</td>\n",
       "      <td>8045</td>\n",
       "      <td>196</td>\n",
       "    </tr>\n",
       "    <tr>\n",
       "      <th>3</th>\n",
       "      <td>Mercier, Christian</td>\n",
       "      <td>8677</td>\n",
       "      <td>9874</td>\n",
       "      <td></td>\n",
       "      <td>8677</td>\n",
       "      <td>9270</td>\n",
       "      <td>593</td>\n",
       "    </tr>\n",
       "    <tr>\n",
       "      <th>4</th>\n",
       "      <td>Boudalia, Said Sr.</td>\n",
       "      <td>8689</td>\n",
       "      <td>9011</td>\n",
       "      <td></td>\n",
       "      <td>8689</td>\n",
       "      <td>8861</td>\n",
       "      <td>172</td>\n",
       "    </tr>\n",
       "  </tbody>\n",
       "</table>\n",
       "</div>"
      ],
      "text/plain": [
       "                 Name  Official Time_x  Official Time_y  \\\n",
       "0      Chebet, Wilson             7822             7955   \n",
       "1       Korir, Wesley             7849             8294   \n",
       "2     Keflezighi, Meb             7962             8220   \n",
       "3  Mercier, Christian             8677             9874   \n",
       "4  Boudalia, Said Sr.             8689             9011   \n",
       "\n",
       "  time_difference_20152016  Official Time_2015  Official Time_2017  \\\n",
       "0                                         7757                8012   \n",
       "1                                         7788                8042   \n",
       "2                                         7849                8045   \n",
       "3                                         8677                9270   \n",
       "4                                         8689                8861   \n",
       "\n",
       "   time_difference_20152017  \n",
       "0                       255  \n",
       "1                       254  \n",
       "2                       196  \n",
       "3                       593  \n",
       "4                       172  "
      ]
     },
     "execution_count": 40,
     "metadata": {},
     "output_type": "execute_result"
    }
   ],
   "source": [
    "#compare the time with previous year ,if runtime difference a negative number, runner's performance improved.\n",
    "runnertime_20152016_df[\"Official Time_2015\"]=runnertime_20152016_df[\"Official Time_x\"]\n",
    "runnertime_20152016_df[\"Official Time_2016\"]=runnertime_20152016_df[\"Official Time_y\"]\n",
    "runnertime_20152016_df[\"time_difference_20152016\"] = runnertime_20152016_df[\"Official Time_2016\"]-runnertime_20152016_df[\"Official Time_2015\"]\n",
    "\n",
    "runnertime_20162017_df[\"Official Time_2016\"]=runnertime_20162017_df[\"Official Time_x\"]\n",
    "runnertime_20162017_df[\"Official Time_2017\"]=runnertime_20162017_df[\"Official Time_y\"]\n",
    "runnertime_20162017_df[\"time_difference_20162017\"] = runnertime_20162017_df[\"Official Time_2017\"]-runnertime_20162017_df[\"Official Time_2016\"]\n",
    "\n",
    "runnertime_20152017_df[\"Official Time_2015\"]=runnertime_20152016_df[\"Official Time_x\"]\n",
    "runnertime_20152017_df[\"Official Time_2017\"]=runnertime_20152016_df[\"Official Time_y\"]\n",
    "runnertime_20152017_df[\"time_difference_20152017\"] = runnertime_20152017_df[\"Official Time_2017\"]-runnertime_20152017_df[\"Official Time_2015\"]\n",
    "runnertime_20152017_df.head()"
   ]
  },
  {
   "cell_type": "code",
   "execution_count": 42,
   "metadata": {},
   "outputs": [
    {
     "name": "stdout",
     "output_type": "stream",
     "text": [
      "Name                   time_difference_20152016_sign\n",
      "Acosta Rosales, Edgar   1                               1\n",
      "Aitken, Kyle            1                               1\n",
      "Aitken, Miles          -1                               1\n",
      "Alexander, Jeff         1                               1\n",
      "Allan, Kirsten N.       1                               1\n",
      "Name: time_difference_20152016_sign, dtype: int64\n"
     ]
    }
   ],
   "source": [
    "runnertime_20152016_df['time_difference_20152016_sign'] = np.sign(runnertime_20152016_df.time_difference_20152016)\n",
    "runnertime_20152016_grouped_df=runnertime_20152016_df.groupby('Name').time_difference_20152016_sign.value_counts()\n",
    "print (runnertime_20152016_grouped_df.head())"
   ]
  },
  {
   "cell_type": "code",
   "execution_count": 43,
   "metadata": {},
   "outputs": [
    {
     "data": {
      "text/plain": [
       " 1    394\n",
       "-1    100\n",
       "Name: time_difference_20152016_sign, dtype: int64"
      ]
     },
     "execution_count": 43,
     "metadata": {},
     "output_type": "execute_result"
    }
   ],
   "source": [
    "# this will count \"1.0\" (positive change) and \"-1.0\" (negative change)\n",
    "pos_neg_df_20152016 = runnertime_20152016_df['time_difference_20152016_sign'].value_counts()\n",
    "pos_neg_df_20152016.head()"
   ]
  },
  {
   "cell_type": "code",
   "execution_count": 44,
   "metadata": {},
   "outputs": [
    {
     "name": "stdout",
     "output_type": "stream",
     "text": [
      "Name              time_difference_20162017_sign\n",
      "Abitbol, Matthew   1                               1\n",
      "Adachi, Shinsuke   1                               1\n",
      "Adamshick, Mike   -1                               1\n",
      "Aitken, Kyle       1                               1\n",
      "Aitken, Miles      1                               1\n",
      "Name: time_difference_20162017_sign, dtype: int64\n"
     ]
    }
   ],
   "source": [
    "runnertime_20162017_df['time_difference_20162017_sign'] = np.sign(runnertime_20162017_df.time_difference_20162017)\n",
    "runnertime_20162017_grouped_df=runnertime_20162017_df.groupby('Name').time_difference_20162017_sign.value_counts()\n",
    "print(runnertime_20162017_grouped_df.head())"
   ]
  },
  {
   "cell_type": "code",
   "execution_count": 45,
   "metadata": {},
   "outputs": [
    {
     "data": {
      "text/plain": [
       "-1    272\n",
       " 1    217\n",
       "Name: time_difference_20162017_sign, dtype: int64"
      ]
     },
     "execution_count": 45,
     "metadata": {},
     "output_type": "execute_result"
    }
   ],
   "source": [
    "pos_neg_df_20162017 = runnertime_20162017_df['time_difference_20162017_sign'].value_counts()\n",
    "pos_neg_df_20162017.head()"
   ]
  },
  {
   "cell_type": "code",
   "execution_count": 46,
   "metadata": {},
   "outputs": [
    {
     "data": {
      "text/plain": [
       "Name                   time_difference_20152016_sign\n",
       "Acosta Rosales, Edgar   1                               1\n",
       "Aitken, Kyle            1                               1\n",
       "Aitken, Miles          -1                               1\n",
       "Alexander, Jeff         1                               1\n",
       "Allan, Kirsten N.       1                               1\n",
       "Name: time_difference_20152016_sign, dtype: int64"
      ]
     },
     "execution_count": 46,
     "metadata": {},
     "output_type": "execute_result"
    }
   ],
   "source": [
    "runnertime_20152017_df['time_difference_20152017_sign'] = np.sign(runnertime_20152017_df.time_difference_20152017)\n",
    "runnertime_20152017_grouped_df=pd.DataFrame(runnertime_20152017_df.groupby('Name').time_difference_20152017_sign.value_counts())\n",
    "runnertime_20152016_grouped_df.head(5)"
   ]
  },
  {
   "cell_type": "code",
   "execution_count": 47,
   "metadata": {},
   "outputs": [
    {
     "data": {
      "text/plain": [
       " 1    286\n",
       "-1     54\n",
       "Name: time_difference_20152017_sign, dtype: int64"
      ]
     },
     "execution_count": 47,
     "metadata": {},
     "output_type": "execute_result"
    }
   ],
   "source": [
    "pos_neg_df_20152017 = runnertime_20152017_df['time_difference_20152017_sign'].value_counts()\n",
    "pos_neg_df_20152017.head()"
   ]
  },
  {
   "cell_type": "code",
   "execution_count": 18,
   "metadata": {},
   "outputs": [
    {
     "data": {
      "image/png": "[encoded data removed]",
      "text/plain": [
       "<Figure size 432x288 with 1 Axes>"
      ]
     },
     "metadata": {},
     "output_type": "display_data"
    }
   ],
   "source": [
    "labels = [ \"Not Improved\",\"Improved\",\"No Change\"]\n",
    "sizes = [4203, 1386, 2]\n",
    "colors = [\"goldenrod\",\"navy\", \"orangered\"]\n",
    "explode = (0.1, 0, 0)\n",
    "plt.axis(\"equal\")\n",
    "plt.pie(sizes, explode=explode, labels=labels, colors=colors,\n",
    "        autopct=\"%1.1f%%\", shadow=True, startangle=140)\n",
    "plt.title(\"Runner Time 2015 vs.2016\")\n",
    "plt.savefig(\"Images/Percentage of Runners Who Improved in 2015 vs. 2016.png\")"
   ]
  },
  {
   "cell_type": "code",
   "execution_count": 48,
   "metadata": {},
   "outputs": [
    {
     "data": {
      "image/png": "[encoded data removed]",
      "text/plain": [
       "<Figure size 432x288 with 1 Axes>"
      ]
     },
     "metadata": {},
     "output_type": "display_data"
    }
   ],
   "source": [
    "labels = [ \"Not Improved\",\"Improved\",\"No Change\"]\n",
    "sizes = [394, 100, 0]\n",
    "colors = [\"goldenrod\",\"navy\", \"orangered\"]\n",
    "explode = (0.1, 0, 0)\n",
    "plt.axis(\"equal\")\n",
    "plt.pie(sizes, explode=explode, labels=labels, colors=colors,\n",
    "        autopct=\"%1.1f%%\", shadow=True, startangle=140)\n",
    "plt.title(\"Top 10% Runner Time 2015 vs.2016\")\n",
    "plt.savefig(\"Images/Percentage of Top 10% Runners Who Improved in 2015 vs. 2016.png\")"
   ]
  },
  {
   "cell_type": "code",
   "execution_count": 19,
   "metadata": {},
   "outputs": [
    {
     "data": {
      "image/png": "[encoded data removed]",
      "text/plain": [
       "<Figure size 432x288 with 1 Axes>"
      ]
     },
     "metadata": {},
     "output_type": "display_data"
    }
   ],
   "source": [
    "labels = [ \"Not Improved\",\"Improved\",\"No Change\"]\n",
    "sizes = [3158, 1881, 4]\n",
    "colors = [\"goldenrod\",\"navy\", \"orangered\"]\n",
    "explode = (0.1, 0, 0)\n",
    "plt.axis(\"equal\")\n",
    "plt.pie(sizes, explode=explode, labels=labels, colors=colors,\n",
    "        autopct=\"%1.1f%%\", shadow=True, startangle=140)\n",
    "plt.title(\"Runner Time 2016 vs.2017\")\n",
    "plt.savefig(\"Images/Percentage of Runners Who Improved in 2016 vs. 2017.png\")"
   ]
  },
  {
   "cell_type": "code",
   "execution_count": 62,
   "metadata": {},
   "outputs": [
    {
     "data": {
      "image/png": "[encoded data removed]",
      "text/plain": [
       "<Figure size 432x288 with 1 Axes>"
      ]
     },
     "metadata": {},
     "output_type": "display_data"
    }
   ],
   "source": [
    "labels = [ \"Not Improved\",\"Improved\",\"No Change\"]\n",
    "sizes = [272, 217, 0]\n",
    "colors = [\"goldenrod\",\"navy\", \"orangered\"]\n",
    "explode = (0.1, 0, 0)\n",
    "plt.axis(\"equal\")\n",
    "plt.pie(sizes, explode=explode, labels=labels, colors=colors,\n",
    "        autopct=\"%1.1f%%\", shadow=True, startangle=140)\n",
    "plt.title(\"Top 10% Runner Time 2016 vs.2017\")\n",
    "plt.savefig(\"Images/Percentage of Top 10% Runners Who Improved in 2016 vs. 2017.png\")"
   ]
  },
  {
   "cell_type": "code",
   "execution_count": 20,
   "metadata": {},
   "outputs": [
    {
     "data": {
      "image/png": "[encoded data removed]",
      "text/plain": [
       "<Figure size 432x288 with 1 Axes>"
      ]
     },
     "metadata": {},
     "output_type": "display_data"
    }
   ],
   "source": [
    "labels = [ \"Not Improved\",\"Improved\",\"No Change\"]\n",
    "sizes = [3150, 798, 2]\n",
    "colors = [\"goldenrod\",\"navy\", \"orangered\"]\n",
    "explode = (0.1, 0, 0)\n",
    "plt.axis(\"equal\")\n",
    "plt.pie(sizes, explode=explode, labels=labels, colors=colors,\n",
    "        autopct=\"%1.1f%%\", shadow=True, startangle=140)\n",
    "plt.title(\"Runner Time 2015 vs.2017\")\n",
    "plt.savefig(\"Images/Percentage of Runners Who Improved in 2 Years.png\")"
   ]
  },
  {
   "cell_type": "code",
   "execution_count": 61,
   "metadata": {},
   "outputs": [
    {
     "data": {
      "image/png": "[encoded data removed]",
      "text/plain": [
       "<Figure size 432x288 with 1 Axes>"
      ]
     },
     "metadata": {},
     "output_type": "display_data"
    }
   ],
   "source": [
    "labels = [ \"Not Improved\",\"Improved\",\"No Change\"]\n",
    "sizes = [286,54,0]\n",
    "colors = [\"goldenrod\",\"navy\", \"orangered\"]\n",
    "explode = (0.1, 0, 0)\n",
    "plt.axis(\"equal\")\n",
    "plt.pie(sizes, explode=explode, labels=labels, colors=colors,\n",
    "        autopct=\"%1.1f%%\", shadow=True, startangle=140)\n",
    "plt.title(\"Top 10% Runner Time 2015 vs.2017\")\n",
    "plt.savefig(\"Images/Percentage of Top 10% Runners Who Improved in 2 Years.png\")"
   ]
  },
  {
   "cell_type": "code",
   "execution_count": 52,
   "metadata": {},
   "outputs": [
    {
     "data": {
      "text/html": [
       "<div>\n",
       "<style scoped>\n",
       "    .dataframe tbody tr th:only-of-type {\n",
       "        vertical-align: middle;\n",
       "    }\n",
       "\n",
       "    .dataframe tbody tr th {\n",
       "        vertical-align: top;\n",
       "    }\n",
       "\n",
       "    .dataframe thead th {\n",
       "        text-align: right;\n",
       "    }\n",
       "</style>\n",
       "<table border=\"1\" class=\"dataframe\">\n",
       "  <thead>\n",
       "    <tr style=\"text-align: right;\">\n",
       "      <th></th>\n",
       "      <th>Name</th>\n",
       "      <th>Official Time_x_x</th>\n",
       "      <th>Official Time_y_x</th>\n",
       "      <th>time_difference_20152016_x</th>\n",
       "      <th>Official Time_2015</th>\n",
       "      <th>Official Time_2016_x</th>\n",
       "      <th>time_difference_20152016_sign</th>\n",
       "      <th>Official Time_x_y</th>\n",
       "      <th>Official Time_y_y</th>\n",
       "      <th>time_difference_20152016_y</th>\n",
       "      <th>Official Time_2016_y</th>\n",
       "      <th>Official Time_2017</th>\n",
       "      <th>time_difference_20162017</th>\n",
       "      <th>time_difference_20162017_sign</th>\n",
       "    </tr>\n",
       "  </thead>\n",
       "  <tbody>\n",
       "    <tr>\n",
       "      <th>0</th>\n",
       "      <td>Korir, Wesley</td>\n",
       "      <td>7849</td>\n",
       "      <td>8045</td>\n",
       "      <td>196</td>\n",
       "      <td>7849</td>\n",
       "      <td>8045</td>\n",
       "      <td>1</td>\n",
       "      <td>8045</td>\n",
       "      <td>8294</td>\n",
       "      <td></td>\n",
       "      <td>8045</td>\n",
       "      <td>8294</td>\n",
       "      <td>249</td>\n",
       "      <td>1</td>\n",
       "    </tr>\n",
       "    <tr>\n",
       "      <th>1</th>\n",
       "      <td>Mercier, Christian</td>\n",
       "      <td>8677</td>\n",
       "      <td>9270</td>\n",
       "      <td>593</td>\n",
       "      <td>8677</td>\n",
       "      <td>9270</td>\n",
       "      <td>1</td>\n",
       "      <td>9270</td>\n",
       "      <td>9874</td>\n",
       "      <td></td>\n",
       "      <td>9270</td>\n",
       "      <td>9874</td>\n",
       "      <td>604</td>\n",
       "      <td>1</td>\n",
       "    </tr>\n",
       "    <tr>\n",
       "      <th>2</th>\n",
       "      <td>Boudalia, Said Sr.</td>\n",
       "      <td>8689</td>\n",
       "      <td>8861</td>\n",
       "      <td>172</td>\n",
       "      <td>8689</td>\n",
       "      <td>8861</td>\n",
       "      <td>1</td>\n",
       "      <td>8861</td>\n",
       "      <td>9011</td>\n",
       "      <td></td>\n",
       "      <td>8861</td>\n",
       "      <td>9011</td>\n",
       "      <td>150</td>\n",
       "      <td>1</td>\n",
       "    </tr>\n",
       "    <tr>\n",
       "      <th>3</th>\n",
       "      <td>Deba, Buzunesh</td>\n",
       "      <td>8709</td>\n",
       "      <td>9236</td>\n",
       "      <td>527</td>\n",
       "      <td>8709</td>\n",
       "      <td>9236</td>\n",
       "      <td>1</td>\n",
       "      <td>9236</td>\n",
       "      <td>9058</td>\n",
       "      <td></td>\n",
       "      <td>9236</td>\n",
       "      <td>9058</td>\n",
       "      <td>-178</td>\n",
       "      <td>-1</td>\n",
       "    </tr>\n",
       "    <tr>\n",
       "      <th>4</th>\n",
       "      <td>Ayr, Jason M.</td>\n",
       "      <td>8714</td>\n",
       "      <td>9164</td>\n",
       "      <td>450</td>\n",
       "      <td>8714</td>\n",
       "      <td>9164</td>\n",
       "      <td>1</td>\n",
       "      <td>9164</td>\n",
       "      <td>8689</td>\n",
       "      <td></td>\n",
       "      <td>9164</td>\n",
       "      <td>8689</td>\n",
       "      <td>-475</td>\n",
       "      <td>-1</td>\n",
       "    </tr>\n",
       "  </tbody>\n",
       "</table>\n",
       "</div>"
      ],
      "text/plain": [
       "                 Name  Official Time_x_x  Official Time_y_x  \\\n",
       "0       Korir, Wesley               7849               8045   \n",
       "1  Mercier, Christian               8677               9270   \n",
       "2  Boudalia, Said Sr.               8689               8861   \n",
       "3      Deba, Buzunesh               8709               9236   \n",
       "4       Ayr, Jason M.               8714               9164   \n",
       "\n",
       "   time_difference_20152016_x  Official Time_2015  Official Time_2016_x  \\\n",
       "0                         196                7849                  8045   \n",
       "1                         593                8677                  9270   \n",
       "2                         172                8689                  8861   \n",
       "3                         527                8709                  9236   \n",
       "4                         450                8714                  9164   \n",
       "\n",
       "   time_difference_20152016_sign  Official Time_x_y  Official Time_y_y  \\\n",
       "0                              1               8045               8294   \n",
       "1                              1               9270               9874   \n",
       "2                              1               8861               9011   \n",
       "3                              1               9236               9058   \n",
       "4                              1               9164               8689   \n",
       "\n",
       "  time_difference_20152016_y  Official Time_2016_y  Official Time_2017  \\\n",
       "0                                             8045                8294   \n",
       "1                                             9270                9874   \n",
       "2                                             8861                9011   \n",
       "3                                             9236                9058   \n",
       "4                                             9164                8689   \n",
       "\n",
       "   time_difference_20162017  time_difference_20162017_sign  \n",
       "0                       249                              1  \n",
       "1                       604                              1  \n",
       "2                       150                              1  \n",
       "3                      -178                             -1  \n",
       "4                      -475                             -1  "
      ]
     },
     "execution_count": 52,
     "metadata": {},
     "output_type": "execute_result"
    }
   ],
   "source": [
    "runnertime_20152016_2017_df = pd.merge(runnertime_20152016_df,runnertime_20162017_df,on=\"Name\")\n",
    "runnertime_20152016_2017_df.head()"
   ]
  },
  {
   "cell_type": "code",
   "execution_count": 53,
   "metadata": {},
   "outputs": [
    {
     "data": {
      "text/html": [
       "<div>\n",
       "<style scoped>\n",
       "    .dataframe tbody tr th:only-of-type {\n",
       "        vertical-align: middle;\n",
       "    }\n",
       "\n",
       "    .dataframe tbody tr th {\n",
       "        vertical-align: top;\n",
       "    }\n",
       "\n",
       "    .dataframe thead th {\n",
       "        text-align: right;\n",
       "    }\n",
       "</style>\n",
       "<table border=\"1\" class=\"dataframe\">\n",
       "  <thead>\n",
       "    <tr style=\"text-align: right;\">\n",
       "      <th></th>\n",
       "      <th>Name</th>\n",
       "      <th>Official Time_x_x</th>\n",
       "      <th>Official Time_y_x</th>\n",
       "      <th>time_difference_20152016_x</th>\n",
       "      <th>Official Time_2015_x</th>\n",
       "      <th>Official Time_2016_x</th>\n",
       "      <th>time_difference_20152016_sign</th>\n",
       "      <th>Official Time_x_y</th>\n",
       "      <th>Official Time_y_y</th>\n",
       "      <th>time_difference_20152016_y</th>\n",
       "      <th>...</th>\n",
       "      <th>Official Time_2017_x</th>\n",
       "      <th>time_difference_20162017</th>\n",
       "      <th>time_difference_20162017_sign</th>\n",
       "      <th>Official Time_x</th>\n",
       "      <th>Official Time_y</th>\n",
       "      <th>time_difference_20152016</th>\n",
       "      <th>Official Time_2015_y</th>\n",
       "      <th>Official Time_2017_y</th>\n",
       "      <th>time_difference_20152017</th>\n",
       "      <th>time_difference_20152017_sign</th>\n",
       "    </tr>\n",
       "  </thead>\n",
       "  <tbody>\n",
       "    <tr>\n",
       "      <th>0</th>\n",
       "      <td>Korir, Wesley</td>\n",
       "      <td>7849</td>\n",
       "      <td>8045</td>\n",
       "      <td>196</td>\n",
       "      <td>7849</td>\n",
       "      <td>8045</td>\n",
       "      <td>1</td>\n",
       "      <td>8045</td>\n",
       "      <td>8294</td>\n",
       "      <td></td>\n",
       "      <td>...</td>\n",
       "      <td>8294</td>\n",
       "      <td>249</td>\n",
       "      <td>1</td>\n",
       "      <td>7849</td>\n",
       "      <td>8294</td>\n",
       "      <td></td>\n",
       "      <td>7788</td>\n",
       "      <td>8042</td>\n",
       "      <td>254</td>\n",
       "      <td>1</td>\n",
       "    </tr>\n",
       "    <tr>\n",
       "      <th>1</th>\n",
       "      <td>Mercier, Christian</td>\n",
       "      <td>8677</td>\n",
       "      <td>9270</td>\n",
       "      <td>593</td>\n",
       "      <td>8677</td>\n",
       "      <td>9270</td>\n",
       "      <td>1</td>\n",
       "      <td>9270</td>\n",
       "      <td>9874</td>\n",
       "      <td></td>\n",
       "      <td>...</td>\n",
       "      <td>9874</td>\n",
       "      <td>604</td>\n",
       "      <td>1</td>\n",
       "      <td>8677</td>\n",
       "      <td>9874</td>\n",
       "      <td></td>\n",
       "      <td>8677</td>\n",
       "      <td>9270</td>\n",
       "      <td>593</td>\n",
       "      <td>1</td>\n",
       "    </tr>\n",
       "    <tr>\n",
       "      <th>2</th>\n",
       "      <td>Boudalia, Said Sr.</td>\n",
       "      <td>8689</td>\n",
       "      <td>8861</td>\n",
       "      <td>172</td>\n",
       "      <td>8689</td>\n",
       "      <td>8861</td>\n",
       "      <td>1</td>\n",
       "      <td>8861</td>\n",
       "      <td>9011</td>\n",
       "      <td></td>\n",
       "      <td>...</td>\n",
       "      <td>9011</td>\n",
       "      <td>150</td>\n",
       "      <td>1</td>\n",
       "      <td>8689</td>\n",
       "      <td>9011</td>\n",
       "      <td></td>\n",
       "      <td>8689</td>\n",
       "      <td>8861</td>\n",
       "      <td>172</td>\n",
       "      <td>1</td>\n",
       "    </tr>\n",
       "    <tr>\n",
       "      <th>3</th>\n",
       "      <td>Deba, Buzunesh</td>\n",
       "      <td>8709</td>\n",
       "      <td>9236</td>\n",
       "      <td>527</td>\n",
       "      <td>8709</td>\n",
       "      <td>9236</td>\n",
       "      <td>1</td>\n",
       "      <td>9236</td>\n",
       "      <td>9058</td>\n",
       "      <td></td>\n",
       "      <td>...</td>\n",
       "      <td>9058</td>\n",
       "      <td>-178</td>\n",
       "      <td>-1</td>\n",
       "      <td>8709</td>\n",
       "      <td>9058</td>\n",
       "      <td></td>\n",
       "      <td>8709</td>\n",
       "      <td>9236</td>\n",
       "      <td>527</td>\n",
       "      <td>1</td>\n",
       "    </tr>\n",
       "    <tr>\n",
       "      <th>4</th>\n",
       "      <td>Ayr, Jason M.</td>\n",
       "      <td>8714</td>\n",
       "      <td>9164</td>\n",
       "      <td>450</td>\n",
       "      <td>8714</td>\n",
       "      <td>9164</td>\n",
       "      <td>1</td>\n",
       "      <td>9164</td>\n",
       "      <td>8689</td>\n",
       "      <td></td>\n",
       "      <td>...</td>\n",
       "      <td>8689</td>\n",
       "      <td>-475</td>\n",
       "      <td>-1</td>\n",
       "      <td>8714</td>\n",
       "      <td>8689</td>\n",
       "      <td></td>\n",
       "      <td>8714</td>\n",
       "      <td>9164</td>\n",
       "      <td>450</td>\n",
       "      <td>1</td>\n",
       "    </tr>\n",
       "  </tbody>\n",
       "</table>\n",
       "<p>5 rows × 21 columns</p>\n",
       "</div>"
      ],
      "text/plain": [
       "                 Name  Official Time_x_x  Official Time_y_x  \\\n",
       "0       Korir, Wesley               7849               8045   \n",
       "1  Mercier, Christian               8677               9270   \n",
       "2  Boudalia, Said Sr.               8689               8861   \n",
       "3      Deba, Buzunesh               8709               9236   \n",
       "4       Ayr, Jason M.               8714               9164   \n",
       "\n",
       "   time_difference_20152016_x  Official Time_2015_x  Official Time_2016_x  \\\n",
       "0                         196                  7849                  8045   \n",
       "1                         593                  8677                  9270   \n",
       "2                         172                  8689                  8861   \n",
       "3                         527                  8709                  9236   \n",
       "4                         450                  8714                  9164   \n",
       "\n",
       "   time_difference_20152016_sign  Official Time_x_y  Official Time_y_y  \\\n",
       "0                              1               8045               8294   \n",
       "1                              1               9270               9874   \n",
       "2                              1               8861               9011   \n",
       "3                              1               9236               9058   \n",
       "4                              1               9164               8689   \n",
       "\n",
       "  time_difference_20152016_y              ...                \\\n",
       "0                                         ...                 \n",
       "1                                         ...                 \n",
       "2                                         ...                 \n",
       "3                                         ...                 \n",
       "4                                         ...                 \n",
       "\n",
       "   Official Time_2017_x  time_difference_20162017  \\\n",
       "0                  8294                       249   \n",
       "1                  9874                       604   \n",
       "2                  9011                       150   \n",
       "3                  9058                      -178   \n",
       "4                  8689                      -475   \n",
       "\n",
       "   time_difference_20162017_sign  Official Time_x  Official Time_y  \\\n",
       "0                              1             7849             8294   \n",
       "1                              1             8677             9874   \n",
       "2                              1             8689             9011   \n",
       "3                             -1             8709             9058   \n",
       "4                             -1             8714             8689   \n",
       "\n",
       "   time_difference_20152016 Official Time_2015_y  Official Time_2017_y  \\\n",
       "0                                           7788                  8042   \n",
       "1                                           8677                  9270   \n",
       "2                                           8689                  8861   \n",
       "3                                           8709                  9236   \n",
       "4                                           8714                  9164   \n",
       "\n",
       "   time_difference_20152017  time_difference_20152017_sign  \n",
       "0                       254                              1  \n",
       "1                       593                              1  \n",
       "2                       172                              1  \n",
       "3                       527                              1  \n",
       "4                       450                              1  \n",
       "\n",
       "[5 rows x 21 columns]"
      ]
     },
     "execution_count": 53,
     "metadata": {},
     "output_type": "execute_result"
    }
   ],
   "source": [
    "runnertime_201520162017_df = pd.merge(runnertime_20152016_2017_df,runnertime_20152017_df,on=\"Name\")\n",
    "runnertime_201520162017_df.head()"
   ]
  },
  {
   "cell_type": "code",
   "execution_count": 54,
   "metadata": {},
   "outputs": [
    {
     "data": {
      "text/html": [
       "<div>\n",
       "<style scoped>\n",
       "    .dataframe tbody tr th:only-of-type {\n",
       "        vertical-align: middle;\n",
       "    }\n",
       "\n",
       "    .dataframe tbody tr th {\n",
       "        vertical-align: top;\n",
       "    }\n",
       "\n",
       "    .dataframe thead th {\n",
       "        text-align: right;\n",
       "    }\n",
       "</style>\n",
       "<table border=\"1\" class=\"dataframe\">\n",
       "  <thead>\n",
       "    <tr style=\"text-align: right;\">\n",
       "      <th></th>\n",
       "      <th>Name</th>\n",
       "      <th>time_difference_20152016_sign</th>\n",
       "      <th>time_difference_20162017_sign</th>\n",
       "    </tr>\n",
       "  </thead>\n",
       "  <tbody>\n",
       "    <tr>\n",
       "      <th>0</th>\n",
       "      <td>Korir, Wesley</td>\n",
       "      <td>1</td>\n",
       "      <td>1</td>\n",
       "    </tr>\n",
       "    <tr>\n",
       "      <th>1</th>\n",
       "      <td>Mercier, Christian</td>\n",
       "      <td>1</td>\n",
       "      <td>1</td>\n",
       "    </tr>\n",
       "    <tr>\n",
       "      <th>2</th>\n",
       "      <td>Boudalia, Said Sr.</td>\n",
       "      <td>1</td>\n",
       "      <td>1</td>\n",
       "    </tr>\n",
       "    <tr>\n",
       "      <th>3</th>\n",
       "      <td>Deba, Buzunesh</td>\n",
       "      <td>1</td>\n",
       "      <td>-1</td>\n",
       "    </tr>\n",
       "    <tr>\n",
       "      <th>4</th>\n",
       "      <td>Ayr, Jason M.</td>\n",
       "      <td>1</td>\n",
       "      <td>-1</td>\n",
       "    </tr>\n",
       "    <tr>\n",
       "      <th>5</th>\n",
       "      <td>Varner, Alexander</td>\n",
       "      <td>1</td>\n",
       "      <td>-1</td>\n",
       "    </tr>\n",
       "    <tr>\n",
       "      <th>6</th>\n",
       "      <td>Ornelas, Zachary</td>\n",
       "      <td>1</td>\n",
       "      <td>-1</td>\n",
       "    </tr>\n",
       "    <tr>\n",
       "      <th>7</th>\n",
       "      <td>Ohara, Chip</td>\n",
       "      <td>1</td>\n",
       "      <td>1</td>\n",
       "    </tr>\n",
       "    <tr>\n",
       "      <th>8</th>\n",
       "      <td>Huberty, Bryan</td>\n",
       "      <td>1</td>\n",
       "      <td>1</td>\n",
       "    </tr>\n",
       "    <tr>\n",
       "      <th>9</th>\n",
       "      <td>Bond, Robert J.</td>\n",
       "      <td>-1</td>\n",
       "      <td>1</td>\n",
       "    </tr>\n",
       "    <tr>\n",
       "      <th>10</th>\n",
       "      <td>Vangampleare, Stephen</td>\n",
       "      <td>-1</td>\n",
       "      <td>-1</td>\n",
       "    </tr>\n",
       "    <tr>\n",
       "      <th>11</th>\n",
       "      <td>Ash, Alan</td>\n",
       "      <td>-1</td>\n",
       "      <td>1</td>\n",
       "    </tr>\n",
       "    <tr>\n",
       "      <th>12</th>\n",
       "      <td>Hyland, Sean P.</td>\n",
       "      <td>1</td>\n",
       "      <td>-1</td>\n",
       "    </tr>\n",
       "    <tr>\n",
       "      <th>13</th>\n",
       "      <td>Donaghy, Roger</td>\n",
       "      <td>1</td>\n",
       "      <td>-1</td>\n",
       "    </tr>\n",
       "    <tr>\n",
       "      <th>14</th>\n",
       "      <td>Autrey, Jonathan</td>\n",
       "      <td>1</td>\n",
       "      <td>-1</td>\n",
       "    </tr>\n",
       "    <tr>\n",
       "      <th>15</th>\n",
       "      <td>Taylor, Trent A</td>\n",
       "      <td>1</td>\n",
       "      <td>1</td>\n",
       "    </tr>\n",
       "    <tr>\n",
       "      <th>16</th>\n",
       "      <td>Engtrakul, Chaiwat</td>\n",
       "      <td>-1</td>\n",
       "      <td>-1</td>\n",
       "    </tr>\n",
       "    <tr>\n",
       "      <th>17</th>\n",
       "      <td>Roberts, Duncan</td>\n",
       "      <td>1</td>\n",
       "      <td>-1</td>\n",
       "    </tr>\n",
       "    <tr>\n",
       "      <th>18</th>\n",
       "      <td>Hillyard, Matthew</td>\n",
       "      <td>1</td>\n",
       "      <td>-1</td>\n",
       "    </tr>\n",
       "    <tr>\n",
       "      <th>19</th>\n",
       "      <td>Howell, Jason A</td>\n",
       "      <td>1</td>\n",
       "      <td>-1</td>\n",
       "    </tr>\n",
       "  </tbody>\n",
       "</table>\n",
       "</div>"
      ],
      "text/plain": [
       "                     Name  time_difference_20152016_sign  \\\n",
       "0           Korir, Wesley                              1   \n",
       "1      Mercier, Christian                              1   \n",
       "2      Boudalia, Said Sr.                              1   \n",
       "3          Deba, Buzunesh                              1   \n",
       "4           Ayr, Jason M.                              1   \n",
       "5       Varner, Alexander                              1   \n",
       "6        Ornelas, Zachary                              1   \n",
       "7             Ohara, Chip                              1   \n",
       "8          Huberty, Bryan                              1   \n",
       "9         Bond, Robert J.                             -1   \n",
       "10  Vangampleare, Stephen                             -1   \n",
       "11              Ash, Alan                             -1   \n",
       "12        Hyland, Sean P.                              1   \n",
       "13         Donaghy, Roger                              1   \n",
       "14       Autrey, Jonathan                              1   \n",
       "15        Taylor, Trent A                              1   \n",
       "16     Engtrakul, Chaiwat                             -1   \n",
       "17        Roberts, Duncan                              1   \n",
       "18      Hillyard, Matthew                              1   \n",
       "19        Howell, Jason A                              1   \n",
       "\n",
       "    time_difference_20162017_sign  \n",
       "0                               1  \n",
       "1                               1  \n",
       "2                               1  \n",
       "3                              -1  \n",
       "4                              -1  \n",
       "5                              -1  \n",
       "6                              -1  \n",
       "7                               1  \n",
       "8                               1  \n",
       "9                               1  \n",
       "10                             -1  \n",
       "11                              1  \n",
       "12                             -1  \n",
       "13                             -1  \n",
       "14                             -1  \n",
       "15                              1  \n",
       "16                             -1  \n",
       "17                             -1  \n",
       "18                             -1  \n",
       "19                             -1  "
      ]
     },
     "execution_count": 54,
     "metadata": {},
     "output_type": "execute_result"
    }
   ],
   "source": [
    "runnertime_df=runnertime_201520162017_df.loc[:,[\"Name\",\"time_difference_20152016_sign\",\"time_difference_20162017_sign\"]]\n",
    "runnertime_df.head(20)"
   ]
  },
  {
   "cell_type": "code",
   "execution_count": 55,
   "metadata": {},
   "outputs": [
    {
     "data": {
      "text/html": [
       "<div>\n",
       "<style scoped>\n",
       "    .dataframe tbody tr th:only-of-type {\n",
       "        vertical-align: middle;\n",
       "    }\n",
       "\n",
       "    .dataframe tbody tr th {\n",
       "        vertical-align: top;\n",
       "    }\n",
       "\n",
       "    .dataframe thead th {\n",
       "        text-align: right;\n",
       "    }\n",
       "</style>\n",
       "<table border=\"1\" class=\"dataframe\">\n",
       "  <thead>\n",
       "    <tr style=\"text-align: right;\">\n",
       "      <th></th>\n",
       "      <th>Name</th>\n",
       "      <th>time_difference_20152016_sign</th>\n",
       "      <th>time_difference_20162017_sign</th>\n",
       "      <th>sign_count</th>\n",
       "    </tr>\n",
       "  </thead>\n",
       "  <tbody>\n",
       "    <tr>\n",
       "      <th>0</th>\n",
       "      <td>Korir, Wesley</td>\n",
       "      <td>1</td>\n",
       "      <td>1</td>\n",
       "      <td></td>\n",
       "    </tr>\n",
       "    <tr>\n",
       "      <th>1</th>\n",
       "      <td>Mercier, Christian</td>\n",
       "      <td>1</td>\n",
       "      <td>1</td>\n",
       "      <td></td>\n",
       "    </tr>\n",
       "    <tr>\n",
       "      <th>2</th>\n",
       "      <td>Boudalia, Said Sr.</td>\n",
       "      <td>1</td>\n",
       "      <td>1</td>\n",
       "      <td></td>\n",
       "    </tr>\n",
       "    <tr>\n",
       "      <th>3</th>\n",
       "      <td>Deba, Buzunesh</td>\n",
       "      <td>1</td>\n",
       "      <td>-1</td>\n",
       "      <td></td>\n",
       "    </tr>\n",
       "    <tr>\n",
       "      <th>4</th>\n",
       "      <td>Ayr, Jason M.</td>\n",
       "      <td>1</td>\n",
       "      <td>-1</td>\n",
       "      <td></td>\n",
       "    </tr>\n",
       "  </tbody>\n",
       "</table>\n",
       "</div>"
      ],
      "text/plain": [
       "                 Name  time_difference_20152016_sign  \\\n",
       "0       Korir, Wesley                              1   \n",
       "1  Mercier, Christian                              1   \n",
       "2  Boudalia, Said Sr.                              1   \n",
       "3      Deba, Buzunesh                              1   \n",
       "4       Ayr, Jason M.                              1   \n",
       "\n",
       "   time_difference_20162017_sign sign_count  \n",
       "0                              1             \n",
       "1                              1             \n",
       "2                              1             \n",
       "3                             -1             \n",
       "4                             -1             "
      ]
     },
     "execution_count": 55,
     "metadata": {},
     "output_type": "execute_result"
    }
   ],
   "source": [
    "runnertime_df['sign_count'] = runnertime_df.apply(lambda _: '', axis=1)\n",
    "runnertime_df.head()"
   ]
  },
  {
   "cell_type": "code",
   "execution_count": 56,
   "metadata": {},
   "outputs": [
    {
     "data": {
      "text/html": [
       "<div>\n",
       "<style scoped>\n",
       "    .dataframe tbody tr th:only-of-type {\n",
       "        vertical-align: middle;\n",
       "    }\n",
       "\n",
       "    .dataframe tbody tr th {\n",
       "        vertical-align: top;\n",
       "    }\n",
       "\n",
       "    .dataframe thead th {\n",
       "        text-align: right;\n",
       "    }\n",
       "</style>\n",
       "<table border=\"1\" class=\"dataframe\">\n",
       "  <thead>\n",
       "    <tr style=\"text-align: right;\">\n",
       "      <th></th>\n",
       "      <th>Name</th>\n",
       "      <th>time_difference_20152016_sign</th>\n",
       "      <th>time_difference_20162017_sign</th>\n",
       "      <th>sign_count</th>\n",
       "    </tr>\n",
       "  </thead>\n",
       "  <tbody>\n",
       "    <tr>\n",
       "      <th>0</th>\n",
       "      <td>Korir, Wesley</td>\n",
       "      <td>1</td>\n",
       "      <td>1</td>\n",
       "      <td>2</td>\n",
       "    </tr>\n",
       "    <tr>\n",
       "      <th>1</th>\n",
       "      <td>Mercier, Christian</td>\n",
       "      <td>1</td>\n",
       "      <td>1</td>\n",
       "      <td>2</td>\n",
       "    </tr>\n",
       "    <tr>\n",
       "      <th>2</th>\n",
       "      <td>Boudalia, Said Sr.</td>\n",
       "      <td>1</td>\n",
       "      <td>1</td>\n",
       "      <td>2</td>\n",
       "    </tr>\n",
       "    <tr>\n",
       "      <th>3</th>\n",
       "      <td>Deba, Buzunesh</td>\n",
       "      <td>1</td>\n",
       "      <td>-1</td>\n",
       "      <td>0</td>\n",
       "    </tr>\n",
       "    <tr>\n",
       "      <th>4</th>\n",
       "      <td>Ayr, Jason M.</td>\n",
       "      <td>1</td>\n",
       "      <td>-1</td>\n",
       "      <td>0</td>\n",
       "    </tr>\n",
       "  </tbody>\n",
       "</table>\n",
       "</div>"
      ],
      "text/plain": [
       "                 Name  time_difference_20152016_sign  \\\n",
       "0       Korir, Wesley                              1   \n",
       "1  Mercier, Christian                              1   \n",
       "2  Boudalia, Said Sr.                              1   \n",
       "3      Deba, Buzunesh                              1   \n",
       "4       Ayr, Jason M.                              1   \n",
       "\n",
       "   time_difference_20162017_sign  sign_count  \n",
       "0                              1           2  \n",
       "1                              1           2  \n",
       "2                              1           2  \n",
       "3                             -1           0  \n",
       "4                             -1           0  "
      ]
     },
     "execution_count": 56,
     "metadata": {},
     "output_type": "execute_result"
    }
   ],
   "source": [
    "runnertime_df[\"sign_count\"] = runnertime_df[\"time_difference_20152016_sign\"] + runnertime_df[\"time_difference_20162017_sign\"]\n",
    "runnertime_df.head()"
   ]
  },
  {
   "cell_type": "code",
   "execution_count": 57,
   "metadata": {},
   "outputs": [
    {
     "data": {
      "text/html": [
       "<div>\n",
       "<style scoped>\n",
       "    .dataframe tbody tr th:only-of-type {\n",
       "        vertical-align: middle;\n",
       "    }\n",
       "\n",
       "    .dataframe tbody tr th {\n",
       "        vertical-align: top;\n",
       "    }\n",
       "\n",
       "    .dataframe thead th {\n",
       "        text-align: right;\n",
       "    }\n",
       "</style>\n",
       "<table border=\"1\" class=\"dataframe\">\n",
       "  <thead>\n",
       "    <tr style=\"text-align: right;\">\n",
       "      <th></th>\n",
       "      <th></th>\n",
       "      <th>sign_count</th>\n",
       "    </tr>\n",
       "    <tr>\n",
       "      <th>Name</th>\n",
       "      <th>sign_count</th>\n",
       "      <th></th>\n",
       "    </tr>\n",
       "  </thead>\n",
       "  <tbody>\n",
       "    <tr>\n",
       "      <th>Aitken, Kyle</th>\n",
       "      <th>1</th>\n",
       "      <td>1</td>\n",
       "    </tr>\n",
       "    <tr>\n",
       "      <th>Aitken, Miles</th>\n",
       "      <th>0</th>\n",
       "      <td>1</td>\n",
       "    </tr>\n",
       "    <tr>\n",
       "      <th>Alexander, Jeff</th>\n",
       "      <th>0</th>\n",
       "      <td>1</td>\n",
       "    </tr>\n",
       "    <tr>\n",
       "      <th>Alzate, Alejandro</th>\n",
       "      <th>0</th>\n",
       "      <td>1</td>\n",
       "    </tr>\n",
       "    <tr>\n",
       "      <th>Anis, Michael</th>\n",
       "      <th>0</th>\n",
       "      <td>1</td>\n",
       "    </tr>\n",
       "  </tbody>\n",
       "</table>\n",
       "</div>"
      ],
      "text/plain": [
       "                              sign_count\n",
       "Name              sign_count            \n",
       "Aitken, Kyle      1                    1\n",
       "Aitken, Miles     0                    1\n",
       "Alexander, Jeff   0                    1\n",
       "Alzate, Alejandro 0                    1\n",
       "Anis, Michael     0                    1"
      ]
     },
     "execution_count": 57,
     "metadata": {},
     "output_type": "execute_result"
    }
   ],
   "source": [
    "runnertime_df['sign_count'] = np.sign(runnertime_df.sign_count)\n",
    "runnertime_grouped_df=pd.DataFrame(runnertime_df.groupby('Name').sign_count.value_counts())\n",
    "runnertime_grouped_df.head(5)"
   ]
  },
  {
   "cell_type": "code",
   "execution_count": 58,
   "metadata": {},
   "outputs": [
    {
     "data": {
      "text/plain": [
       " 0    116\n",
       " 1     64\n",
       "-1     23\n",
       "Name: sign_count, dtype: int64"
      ]
     },
     "execution_count": 58,
     "metadata": {},
     "output_type": "execute_result"
    }
   ],
   "source": [
    "pos_neg_df = runnertime_df['sign_count'].value_counts()\n",
    "pos_neg_df.head()"
   ]
  },
  {
   "cell_type": "code",
   "execution_count": 28,
   "metadata": {},
   "outputs": [
    {
     "data": {
      "image/png": "[encoded data removed]",
      "text/plain": [
       "<Figure size 432x288 with 1 Axes>"
      ]
     },
     "metadata": {},
     "output_type": "display_data"
    }
   ],
   "source": [
    "labels = [ \"Not Improved\",\"Improved\",\"Other\"]\n",
    "sizes = [1060, 185,1252 ]\n",
    "colors = [\"goldenrod\",\"navy\", \"orangered\"]\n",
    "explode = (0.1, 0, 0)\n",
    "plt.axis(\"equal\")\n",
    "plt.pie(sizes, explode=explode, labels=labels, colors=colors,\n",
    "        autopct=\"%1.1f%%\", shadow=True, startangle=140)\n",
    "plt.title(\"Runner Time for 2015&2016&2017\")\n",
    "plt.savefig(\"Images/Percentage of Runners Who Improved in Three Years.png\")"
   ]
  },
  {
   "cell_type": "code",
   "execution_count": 60,
   "metadata": {},
   "outputs": [
    {
     "data": {
      "image/png": "[encoded data removed]",
      "text/plain": [
       "<Figure size 432x288 with 1 Axes>"
      ]
     },
     "metadata": {},
     "output_type": "display_data"
    }
   ],
   "source": [
    "labels = [ \"Not Improved\",\"Improved\",\"Other\"]\n",
    "sizes = [64, 23,116]\n",
    "colors = [\"goldenrod\",\"navy\", \"orangered\"]\n",
    "explode = (0.1, 0, 0)\n",
    "plt.axis(\"equal\")\n",
    "plt.pie(sizes, explode=explode, labels=labels, colors=colors,\n",
    "        autopct=\"%1.1f%%\", shadow=True, startangle=140)\n",
    "plt.title(\"Top 10% Runner Time for 2015&2016&2017\")\n",
    "plt.savefig(\"Images/Percentage of Top 10% Runners Who Improved in Three Years.png\")"
   ]
  },
  {
   "cell_type": "code",
   "execution_count": null,
   "metadata": {},
   "outputs": [],
   "source": []
  }
 ],
 "metadata": {
  "kernelspec": {
   "display_name": "Python 3",
   "language": "python",
   "name": "python3"
  },
  "language_info": {
   "codemirror_mode": {
    "name": "ipython",
    "version": 3
   },
   "file_extension": ".py",
   "mimetype": "text/x-python",
   "name": "python",
   "nbconvert_exporter": "python",
   "pygments_lexer": "ipython3",
   "version": "3.6.5"
  }
 },
 "nbformat": 4,
 "nbformat_minor": 2
}
