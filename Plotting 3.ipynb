{
 "cells": [
  {
   "cell_type": "code",
   "execution_count": 1,
   "metadata": {},
   "outputs": [],
   "source": [
    "import pandas as pd\n",
    "import numpy as np\n",
    "from matplotlib import pyplot as plt\n",
    "from scipy.stats import linregress\n",
    "%matplotlib notebook"
   ]
  },
  {
   "cell_type": "code",
   "execution_count": 2,
   "metadata": {},
   "outputs": [],
   "source": [
    "pace2017 = pd.read_csv(\"2017_in_seconds.csv\")\n",
    "pace2016 = pd.read_csv(\"2016_in_seconds.csv\")\n",
    "pace2015 = pd.read_csv(\"2015_in_seconds.csv\")"
   ]
  },
  {
   "cell_type": "code",
   "execution_count": 3,
   "metadata": {},
   "outputs": [],
   "source": [
    "time17_df = pace2017[[\"5k\",\"10k\",\"15k\",\"20k\",\"25k\",\"30k\",\"35k\",\"40k\"]]\n",
    "time16_df = pace2016[[\"5k\",\"10k\",\"15k\",\"20k\",\"25k\",\"30k\",\"35k\",\"40k\"]]\n",
    "time15_df = pace2015[[\"5k\",\"10k\",\"15k\",\"20k\",\"25k\",\"30k\",\"35k\",\"40k\"]]"
   ]
  },
  {
   "cell_type": "code",
   "execution_count": 4,
   "metadata": {},
   "outputs": [
    {
     "name": "stderr",
     "output_type": "stream",
     "text": [
      "C:\\Anaconda\\lib\\site-packages\\ipykernel_launcher.py:1: SettingWithCopyWarning: \n",
      "A value is trying to be set on a copy of a slice from a DataFrame.\n",
      "Try using .loc[row_indexer,col_indexer] = value instead\n",
      "\n",
      "See the caveats in the documentation: http://pandas.pydata.org/pandas-docs/stable/indexing.html#indexing-view-versus-copy\n",
      "  \"\"\"Entry point for launching an IPython kernel.\n",
      "C:\\Anaconda\\lib\\site-packages\\ipykernel_launcher.py:2: SettingWithCopyWarning: \n",
      "A value is trying to be set on a copy of a slice from a DataFrame.\n",
      "Try using .loc[row_indexer,col_indexer] = value instead\n",
      "\n",
      "See the caveats in the documentation: http://pandas.pydata.org/pandas-docs/stable/indexing.html#indexing-view-versus-copy\n",
      "  \n",
      "C:\\Anaconda\\lib\\site-packages\\ipykernel_launcher.py:3: SettingWithCopyWarning: \n",
      "A value is trying to be set on a copy of a slice from a DataFrame.\n",
      "Try using .loc[row_indexer,col_indexer] = value instead\n",
      "\n",
      "See the caveats in the documentation: http://pandas.pydata.org/pandas-docs/stable/indexing.html#indexing-view-versus-copy\n",
      "  This is separate from the ipykernel package so we can avoid doing imports until\n",
      "C:\\Anaconda\\lib\\site-packages\\ipykernel_launcher.py:11: SettingWithCopyWarning: \n",
      "A value is trying to be set on a copy of a slice from a DataFrame.\n",
      "Try using .loc[row_indexer,col_indexer] = value instead\n",
      "\n",
      "See the caveats in the documentation: http://pandas.pydata.org/pandas-docs/stable/indexing.html#indexing-view-versus-copy\n",
      "  # This is added back by InteractiveShellApp.init_path()\n",
      "C:\\Anaconda\\lib\\site-packages\\ipykernel_launcher.py:12: SettingWithCopyWarning: \n",
      "A value is trying to be set on a copy of a slice from a DataFrame.\n",
      "Try using .loc[row_indexer,col_indexer] = value instead\n",
      "\n",
      "See the caveats in the documentation: http://pandas.pydata.org/pandas-docs/stable/indexing.html#indexing-view-versus-copy\n",
      "  if sys.path[0] == '':\n",
      "C:\\Anaconda\\lib\\site-packages\\ipykernel_launcher.py:13: SettingWithCopyWarning: \n",
      "A value is trying to be set on a copy of a slice from a DataFrame.\n",
      "Try using .loc[row_indexer,col_indexer] = value instead\n",
      "\n",
      "See the caveats in the documentation: http://pandas.pydata.org/pandas-docs/stable/indexing.html#indexing-view-versus-copy\n",
      "  del sys.path[0]\n",
      "C:\\Anaconda\\lib\\site-packages\\ipykernel_launcher.py:22: SettingWithCopyWarning: \n",
      "A value is trying to be set on a copy of a slice from a DataFrame.\n",
      "Try using .loc[row_indexer,col_indexer] = value instead\n",
      "\n",
      "See the caveats in the documentation: http://pandas.pydata.org/pandas-docs/stable/indexing.html#indexing-view-versus-copy\n",
      "C:\\Anaconda\\lib\\site-packages\\ipykernel_launcher.py:23: SettingWithCopyWarning: \n",
      "A value is trying to be set on a copy of a slice from a DataFrame.\n",
      "Try using .loc[row_indexer,col_indexer] = value instead\n",
      "\n",
      "See the caveats in the documentation: http://pandas.pydata.org/pandas-docs/stable/indexing.html#indexing-view-versus-copy\n",
      "C:\\Anaconda\\lib\\site-packages\\ipykernel_launcher.py:24: SettingWithCopyWarning: \n",
      "A value is trying to be set on a copy of a slice from a DataFrame.\n",
      "Try using .loc[row_indexer,col_indexer] = value instead\n",
      "\n",
      "See the caveats in the documentation: http://pandas.pydata.org/pandas-docs/stable/indexing.html#indexing-view-versus-copy\n"
     ]
    }
   ],
   "source": [
    "time17_df[\"5K\"] = time17_df[\"5k\"]\n",
    "time17_df[\"10K\"] = time17_df[\"10k\"]-time17_df[\"5k\"]\n",
    "time17_df[\"15K\"] = time17_df[\"15k\"]-time17_df[\"10k\"]\n",
    "time17_df[\"20K\"] = time17_df[\"20k\"]-time17_df[\"15k\"]\n",
    "time17_df[\"25K\"] = time17_df[\"25k\"]-time17_df[\"20k\"]\n",
    "time17_df[\"30K\"] = time17_df[\"30k\"]-time17_df[\"25k\"]\n",
    "time17_df[\"35K\"] = time17_df[\"35k\"]-time17_df[\"30k\"]\n",
    "time17_df[\"40K\"] = time17_df[\"40k\"]-time17_df[\"35k\"]\n",
    "time17_df = time17_df[[\"5K\",\"10K\",\"15K\",\"20K\",\"25K\",\"30K\",\"35K\",\"40K\"]]\n",
    "\n",
    "time16_df[\"5K\"] = time16_df[\"5k\"]\n",
    "time16_df[\"10K\"] = time16_df[\"10k\"]-time16_df[\"5k\"]\n",
    "time16_df[\"15K\"] = time16_df[\"15k\"]-time16_df[\"10k\"]\n",
    "time16_df[\"20K\"] = time16_df[\"20k\"]-time16_df[\"15k\"]\n",
    "time16_df[\"25K\"] = time16_df[\"25k\"]-time16_df[\"20k\"]\n",
    "time16_df[\"30K\"] = time16_df[\"30k\"]-time16_df[\"25k\"]\n",
    "time16_df[\"35K\"] = time16_df[\"35k\"]-time16_df[\"30k\"]\n",
    "time16_df[\"40K\"] = time16_df[\"40k\"]-time16_df[\"35k\"]\n",
    "time16_df = time16_df[[\"5K\",\"10K\",\"15K\",\"20K\",\"25K\",\"30K\",\"35K\",\"40K\"]]\n",
    "\n",
    "\n",
    "time15_df[\"5K\"] = time15_df[\"5k\"]\n",
    "time15_df[\"10K\"] = time15_df[\"10k\"]-time15_df[\"5k\"]\n",
    "time15_df[\"15K\"] = time15_df[\"15k\"]-time15_df[\"10k\"]\n",
    "time15_df[\"20K\"] = time15_df[\"20k\"]-time15_df[\"15k\"]\n",
    "time15_df[\"25K\"] = time15_df[\"25k\"]-time15_df[\"20k\"]\n",
    "time15_df[\"30K\"] = time15_df[\"30k\"]-time15_df[\"25k\"]\n",
    "time15_df[\"35K\"] = time15_df[\"35k\"]-time15_df[\"30k\"]\n",
    "time15_df[\"40K\"] = time15_df[\"40k\"]-time15_df[\"35k\"]\n",
    "time15_df = time15_df[[\"5K\",\"10K\",\"15K\",\"20K\",\"25K\",\"30K\",\"35K\",\"40K\"]]\n"
   ]
  },
  {
   "cell_type": "code",
   "execution_count": 5,
   "metadata": {},
   "outputs": [],
   "source": [
    "total_runner_17 = time17_df[\"5K\"].count()\n",
    "total_runner_16 = time16_df[\"5K\"].count()\n",
    "total_runner_15 = time15_df[\"5K\"].count()"
   ]
  },
  {
   "cell_type": "code",
   "execution_count": 6,
   "metadata": {},
   "outputs": [],
   "source": [
    "top_10_17 = time17_df.head(int(total_runner_17*0.0001))\n",
    "top_10_16 = time16_df.head(int(total_runner_16*0.0001))\n",
    "top_10_15 = time15_df.head(int(total_runner_15*0.0001))\n",
    "top_average_17 = top_10_17.mean(axis=0)\n",
    "top_average_16 = top_10_16.mean(axis=0)\n",
    "top_average_15 = top_10_15.mean(axis=0)\n",
    "combine_top = (top_average_17 + top_average_16 + top_average_15)/3\n",
    "\n",
    "bottom_10_17 = time17_df[-(int(total_runner_17*0.0001)) :]\n",
    "bottom_10_16 = time16_df[-(int(total_runner_16*0.0001)) :]\n",
    "bottom_10_15 = time15_df[-(int(total_runner_15*0.0001)) :]\n",
    "bottom_average_17 = bottom_10_17.mean(axis=0)\n",
    "bottom_average_16 = bottom_10_16.mean(axis=0)\n",
    "bottom_average_15 = bottom_10_15.mean(axis=0)\n",
    "combine_bottom = (bottom_average_17 + bottom_average_16 + bottom_average_15)/3\n",
    "\n",
    "average_pace_2017 = time17_df.mean(axis=0)\n",
    "average_pace_2016 = time16_df.mean(axis=0)\n",
    "average_pace_2015 = time15_df.mean(axis=0)\n",
    "combine_average = (average_pace_2015 + average_pace_2016 + average_pace_2017)/3"
   ]
  },
  {
   "cell_type": "code",
   "execution_count": 7,
   "metadata": {},
   "outputs": [],
   "source": [
    "speed_top = 5000 / combine_top\n",
    "speed_average = 5000 / combine_average\n",
    "speed_bottom = 5000 / combine_bottom"
   ]
  },
  {
   "cell_type": "code",
   "execution_count": 8,
   "metadata": {},
   "outputs": [],
   "source": [
    "speed_top[\"5k\"] = 0\n",
    "speed_top[\"10k\"] = (speed_top[\"10K\"] - speed_top[\"5K\"]) / speed_top[\"5K\"]\n",
    "speed_top[\"15k\"] = (speed_top[\"15K\"] - speed_top[\"10K\"]) / speed_top[\"10K\"]\n",
    "speed_top[\"20k\"] = (speed_top[\"20K\"] - speed_top[\"15K\"]) / speed_top[\"15K\"]\n",
    "speed_top[\"25k\"] = (speed_top[\"25K\"] - speed_top[\"20K\"]) / speed_top[\"20K\"]\n",
    "speed_top[\"30k\"] = (speed_top[\"30K\"] - speed_top[\"25K\"]) / speed_top[\"25K\"]\n",
    "speed_top[\"35k\"] = (speed_top[\"35K\"] - speed_top[\"30K\"]) / speed_top[\"30K\"]\n",
    "speed_top[\"40k\"] = (speed_top[\"40K\"] - speed_top[\"35K\"]) / speed_top[\"35K\"]\n",
    "rate_top = speed_top [[\"5k\",\"10k\",\"15k\",\"20k\",\"25k\",\"30k\",\"35k\",\"40k\"]]\n",
    "\n",
    "speed_average[\"5k\"] = 0\n",
    "speed_average[\"10k\"] = (speed_average[\"10K\"] - speed_average[\"5K\"]) / speed_average[\"5K\"]\n",
    "speed_average[\"15k\"] = (speed_average[\"15K\"] - speed_average[\"10K\"]) / speed_average[\"10K\"]\n",
    "speed_average[\"20k\"] = (speed_average[\"20K\"] - speed_average[\"15K\"]) / speed_average[\"15K\"]\n",
    "speed_average[\"25k\"] = (speed_average[\"25K\"] - speed_average[\"20K\"]) / speed_average[\"20K\"]\n",
    "speed_average[\"30k\"] = (speed_average[\"30K\"] - speed_average[\"25K\"]) / speed_average[\"25K\"]\n",
    "speed_average[\"35k\"] = (speed_average[\"35K\"] - speed_average[\"30K\"]) / speed_average[\"30K\"]\n",
    "speed_average[\"40k\"] = (speed_average[\"40K\"] - speed_average[\"35K\"]) / speed_average[\"35K\"]\n",
    "rate_average = speed_average[[\"5k\",\"10k\",\"15k\",\"20k\",\"25k\",\"30k\",\"35k\",\"40k\"]]\n",
    "\n",
    "speed_bottom[\"5k\"] = 0\n",
    "speed_bottom[\"10k\"] = (speed_bottom[\"10K\"] - speed_bottom[\"5K\"]) / speed_bottom[\"5K\"]\n",
    "speed_bottom[\"15k\"] = (speed_bottom[\"15K\"] - speed_bottom[\"10K\"]) / speed_bottom[\"10K\"]\n",
    "speed_bottom[\"20k\"] = (speed_bottom[\"20K\"] - speed_bottom[\"15K\"]) / speed_bottom[\"15K\"]\n",
    "speed_bottom[\"25k\"] = (speed_bottom[\"25K\"] - speed_bottom[\"20K\"]) / speed_bottom[\"20K\"]\n",
    "speed_bottom[\"30k\"] = (speed_bottom[\"30K\"] - speed_bottom[\"25K\"]) / speed_bottom[\"25K\"]\n",
    "speed_bottom[\"35k\"] = (speed_bottom[\"35K\"] - speed_bottom[\"30K\"]) / speed_bottom[\"30K\"]\n",
    "speed_bottom[\"40k\"] = (speed_bottom[\"40K\"] - speed_bottom[\"35K\"]) / speed_bottom[\"35K\"]\n",
    "rate_bottom = speed_bottom[[\"5k\",\"10k\",\"15k\",\"20k\",\"25k\",\"30k\",\"35k\",\"40k\"]]"
   ]
  },
  {
   "cell_type": "code",
   "execution_count": 9,
   "metadata": {},
   "outputs": [],
   "source": [
    "x_axis = [\"5K\",\"10K\",\"15K\",\"20K\",\"25K\",\"30K\",\"35K\",\"40K\"]"
   ]
  },
  {
   "cell_type": "code",
   "execution_count": 10,
   "metadata": {},
   "outputs": [
    {
     "data": {
      "text/plain": [
       "Text(0,0.5,'Rate of Speed Change in m/s')"
      ]
     },
     "execution_count": 10,
     "metadata": {},
     "output_type": "execute_result"
    },
    {
     "data": {
      "image/png": "[encoded data removed]",
      "text/plain": [
       "<Figure size 432x288 with 1 Axes>"
      ]
     },
     "metadata": {},
     "output_type": "display_data"
    }
   ],
   "source": [
    "plt.plot(x_axis, rate_top, marker ='o', color='gold', label=\"Top 1% Runners\")\n",
    "plt.plot(x_axis, rate_average, marker ='o', color='skyblue', label=\"All Runners\")\n",
    "plt.plot(x_axis, rate_bottom, marker ='o', color='coral', label=\"Bottom 1% Runners\")\n",
    "plt.legend(loc=\"best\")\n",
    "plt.title(\"Pacing Strategy of Runners(in rate of change)\")\n",
    "plt.xlabel(\"Distance in 5km Phases\")\n",
    "plt.ylabel(\"Rate of Speed Change in m/s\")"
   ]
  },
  {
   "cell_type": "code",
   "execution_count": null,
   "metadata": {},
   "outputs": [],
   "source": []
  },
  {
   "cell_type": "code",
   "execution_count": null,
   "metadata": {},
   "outputs": [],
   "source": []
  },
  {
   "cell_type": "code",
   "execution_count": null,
   "metadata": {},
   "outputs": [],
   "source": []
  },
  {
   "cell_type": "code",
   "execution_count": null,
   "metadata": {},
   "outputs": [],
   "source": []
  },
  {
   "cell_type": "code",
   "execution_count": null,
   "metadata": {},
   "outputs": [],
   "source": []
  },
  {
   "cell_type": "code",
   "execution_count": null,
   "metadata": {},
   "outputs": [],
   "source": []
  }
 ],
 "metadata": {
  "kernelspec": {
   "display_name": "Python 3",
   "language": "python",
   "name": "python3"
  },
  "language_info": {
   "codemirror_mode": {
    "name": "ipython",
    "version": 3
   },
   "file_extension": ".py",
   "mimetype": "text/x-python",
   "name": "python",
   "nbconvert_exporter": "python",
   "pygments_lexer": "ipython3",
   "version": "3.6.5"
  }
 },
 "nbformat": 4,
 "nbformat_minor": 2
}
